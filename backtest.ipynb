{
 "cells": [
  {
   "cell_type": "code",
   "execution_count": 1,
   "id": "d352bd38-ec33-489c-b0c1-ad7d350cc7dc",
   "metadata": {},
   "outputs": [],
   "source": [
    "# make directory if doesn't exist\n",
    "!mkdir -p /codeload/zipline\n",
    "\n",
    "!cp zipline_tarding_currency_flow.py /codeload/zipline/"
   ]
  },
  {
   "cell_type": "code",
   "execution_count": null,
   "id": "47f809b5-0f14-48b7-9d4b-eb29491f1b3b",
   "metadata": {},
   "outputs": [],
   "source": []
  }
 ],
 "metadata": {
  "kernelspec": {
   "display_name": "Python 3.9",
   "language": "python",
   "name": "python3"
  },
  "language_info": {
   "codemirror_mode": {
    "name": "ipython",
    "version": 3
   },
   "file_extension": ".py",
   "mimetype": "text/x-python",
   "name": "python",
   "nbconvert_exporter": "python",
   "pygments_lexer": "ipython3",
   "version": "3.9.12"
  }
 },
 "nbformat": 4,
 "nbformat_minor": 5
}
