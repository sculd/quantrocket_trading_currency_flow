{
 "cells": [
  {
   "cell_type": "markdown",
   "id": "90412bf1-8895-474e-afef-330b3414360f",
   "metadata": {
    "jp-MarkdownHeadingCollapsed": true,
    "tags": []
   },
   "source": [
    "## import"
   ]
  },
  {
   "cell_type": "code",
   "execution_count": 1,
   "id": "0e9c96b2-0e18-466c-9f10-0b769d7ae1e1",
   "metadata": {},
   "outputs": [],
   "source": [
    "import quantrocket.master\n",
    "from quantrocket.master import get_securities\n",
    "import pandas as pd"
   ]
  },
  {
   "cell_type": "code",
   "execution_count": 96,
   "id": "f687c8bc-54ac-4edb-8086-d4d2ce9aac97",
   "metadata": {},
   "outputs": [],
   "source": [
    "from quantrocket.zipline import create_usstock_bundle\n",
    "from quantrocket.zipline import ingest_bundle\n",
    "from quantrocket.zipline import get_bundle_config\n",
    "from quantrocket.master import create_universe\n",
    "from quantrocket.master import delete_universe\n",
    "from quantrocket.history import create_edi_db\n",
    "from quantrocket.history import create_ibkr_db\n",
    "from quantrocket.history import collect_history\n",
    "from quantrocket.history import drop_db\n",
    "from quantrocket.history import get_db_config\n",
    "from quantrocket.zipline import create_bundle_from_db, drop_bundle\n",
    "from quantrocket.ibg import start_gateways\n",
    "from quantrocket import get_prices"
   ]
  },
  {
   "cell_type": "code",
   "execution_count": 2,
   "id": "d9663c51-1c83-485b-873e-338a97195614",
   "metadata": {},
   "outputs": [],
   "source": [
    "exchanges_ind_result = quantrocket.master.list_ibkr_exchanges(regions=None, sec_types='IND')"
   ]
  },
  {
   "cell_type": "code",
   "execution_count": 10,
   "id": "d57f5802-0be7-45de-97b9-ccdef4f32b67",
   "metadata": {},
   "outputs": [
    {
     "data": {
      "text/plain": [
       "{'IND': {'United States': ['CFE',\n",
       "   'CBOE',\n",
       "   'CME',\n",
       "   'CBOT',\n",
       "   'COMEX',\n",
       "   'NYMEX',\n",
       "   'ISEOPT',\n",
       "   'NASDAQ',\n",
       "   'NSX',\n",
       "   'NYSE',\n",
       "   'AMEX',\n",
       "   'PSE',\n",
       "   'NYSELIFFE',\n",
       "   'PHLX'],\n",
       "  'Canada': ['CDE', 'TSE'],\n",
       "  'Austria': ['VSE'],\n",
       "  'Belgium': ['BELFOX'],\n",
       "  'France': ['MATIF', 'MONEP'],\n",
       "  'Germany': ['EUREX', 'IBIS'],\n",
       "  'Italy': ['BVME'],\n",
       "  'Netherlands': ['FTA', 'ENDEX'],\n",
       "  'Spain': ['BM', 'MEFFRV'],\n",
       "  'Sweden': ['OMS', 'SFB'],\n",
       "  'Switzerland': ['SOFFEX', 'EBS', 'VIRTX'],\n",
       "  'United Kingdom': ['ICEEU', 'ICEEUSOFT', 'LSE'],\n",
       "  'Australia': ['SNFE', 'ASX'],\n",
       "  'Hong Kong': ['HKFE'],\n",
       "  'India': ['NSE'],\n",
       "  'Japan': ['OSE.JPN', 'TSE.JPN'],\n",
       "  'Singapore': ['SGX'],\n",
       "  'South Korea': ['KSE']}}"
      ]
     },
     "execution_count": 10,
     "metadata": {},
     "output_type": "execute_result"
    }
   ],
   "source": [
    "exchanges_ind_result"
   ]
  },
  {
   "cell_type": "markdown",
   "id": "7d16187a-c7c4-4f68-8819-5f7ba5666918",
   "metadata": {
    "jp-MarkdownHeadingCollapsed": true,
    "tags": []
   },
   "source": [
    "## fx info"
   ]
  },
  {
   "cell_type": "code",
   "execution_count": 11,
   "id": "6596201a-a0eb-4bff-b75d-b698b3296858",
   "metadata": {},
   "outputs": [],
   "source": [
    "exchanges_ind = []\n",
    "for c, exs in exchanges_ind_result['IND'].items():\n",
    "    exchanges_ind += exs"
   ]
  },
  {
   "cell_type": "code",
   "execution_count": 114,
   "id": "0d682ba0-e2c0-430a-b73b-a16a3c3009e8",
   "metadata": {},
   "outputs": [
    {
     "data": {
      "text/plain": [
       "{'status': 'the IBKR listing details will be collected asynchronously'}"
      ]
     },
     "execution_count": 114,
     "metadata": {},
     "output_type": "execute_result"
    }
   ],
   "source": [
    "collect_ibkr_listings(exchanges=exchanges_ind, sec_types=\"IND\")"
   ]
  },
  {
   "cell_type": "code",
   "execution_count": 164,
   "id": "60720a8b-cd6a-4ae9-a931-c43f03f4e9fd",
   "metadata": {},
   "outputs": [
    {
     "data": {
      "text/plain": [
       "{'status': 'the IBKR listing details will be collected asynchronously'}"
      ]
     },
     "execution_count": 164,
     "metadata": {},
     "output_type": "execute_result"
    }
   ],
   "source": [
    "collect_ibkr_listings(exchanges=\"OSE.JPN\", symbols=[\"NKY\"], sec_types=\"IND\")"
   ]
  },
  {
   "cell_type": "code",
   "execution_count": 53,
   "id": "9462ac3f-4191-442b-b7b8-9a52aca5de29",
   "metadata": {},
   "outputs": [
    {
     "name": "stderr",
     "output_type": "stream",
     "text": [
      "/tmp/ipykernel_96/2596729476.py:1: DtypeWarning: Columns (13,14) have mixed types.Specify dtype option on import or set low_memory=False.\n",
      "  df_all = get_securities()\n"
     ]
    }
   ],
   "source": [
    "df_all = get_securities()"
   ]
  },
  {
   "cell_type": "code",
   "execution_count": 302,
   "id": "70cf344d-c703-46bf-98a0-275d8e4e616d",
   "metadata": {},
   "outputs": [],
   "source": [
    "df_ = df_all[['Symbol', 'Name', 'Country', 'SecType']].dropna()"
   ]
  },
  {
   "cell_type": "code",
   "execution_count": 55,
   "id": "e3c8669d-09c0-4611-a6b1-f41596d7da7e",
   "metadata": {
    "tags": []
   },
   "outputs": [],
   "source": [
    "df = get_securities(sec_types=\"IND\")"
   ]
  },
  {
   "cell_type": "code",
   "execution_count": 56,
   "id": "791e21c1-c945-4c84-97a7-01561cd4820d",
   "metadata": {},
   "outputs": [
    {
     "data": {
      "text/plain": [
       "array(['SGX USD/INR (USD) Month-end', 'NASDAQ Transportation Index',\n",
       "       'DOW JONES 15 UTILITY INDEX', ...,\n",
       "       'INTER@CTIVE WEEK INTERNET INDEX', 'AMEX Disk Drive Index',\n",
       "       'Mini-NDX Index'], dtype=object)"
      ]
     },
     "execution_count": 56,
     "metadata": {},
     "output_type": "execute_result"
    }
   ],
   "source": [
    "df.Name.values"
   ]
  },
  {
   "cell_type": "code",
   "execution_count": 194,
   "id": "df9f0fa9-d1b1-4a0d-a204-784ddc0fe510",
   "metadata": {},
   "outputs": [],
   "source": [
    "symbol_pairs = [\n",
    "    (\"ASX\", \"AUD.USD\"),\n",
    "    (\"SSEC\", \"USD.CNH\"), # china\n",
    "    (\"NZCI\", \"NZD.USD\"), #newzealand\n",
    "    (\"OBX\", \"USD.NOK\"), # norway\n",
    "    (\"GSPTSE\", \"USD.CAD\"), # canada\n",
    "    (\"N300\", \"USD.JPY\"), # japan\n",
    "    (\"SET\", \"USD.THB\"),\n",
    "    (\"SSMI\", \"USD.CHF\"), # swiss\n",
    "    (\"XU100\", \"USD.TRY\"), # turkey\n",
    "    (\"WIG\", \"USD.PLN\"), # poland\n",
    "    (\"STI\", \"USD.SGD\"),\n",
    "    (\"PX\", \"USD.CZK\"),\n",
    "    (\"OMXCPI\", \"USD.DKK\"), # denmark\n",
    "    (\"BUX\", \"USD.HUF\"), # hungary\n",
    "    (\"MSCIEU\", \"EUR.USD\"),\n",
    "    (\"FTSE\", \"GBP.USD\"), # uk\n",
    "    (\"MXX\", \"USD.MXN\"), # mexico\n",
    "    (\"HSI\", \"USD.HKD\"),\n",
    "    (\"OMX\", \"USD.SEK\"), # sweden\n",
    "    (\"JALSH\", \"USD.ZAR\"), # south africa\n",
    "    (\"?\", \"USD.KRW\")] # south africa\n",
    "\n",
    "symbols_indx = [p[0] for p in symbol_pairs]\n",
    "symbols_fx = [p[1] for p in symbol_pairs]"
   ]
  },
  {
   "cell_type": "code",
   "execution_count": 195,
   "id": "10437634-dd3f-4f9c-a2ef-2fb2b0313a72",
   "metadata": {
    "tags": []
   },
   "outputs": [],
   "source": [
    "df_fx = get_securities(symbols_fx, sec_types=\"CASH\")"
   ]
  },
  {
   "cell_type": "code",
   "execution_count": 198,
   "id": "8644f560-caef-411a-bfda-94139ef64d6e",
   "metadata": {},
   "outputs": [
    {
     "data": {
      "text/html": [
       "<div>\n",
       "<style scoped>\n",
       "    .dataframe tbody tr th:only-of-type {\n",
       "        vertical-align: middle;\n",
       "    }\n",
       "\n",
       "    .dataframe tbody tr th {\n",
       "        vertical-align: top;\n",
       "    }\n",
       "\n",
       "    .dataframe thead th {\n",
       "        text-align: right;\n",
       "    }\n",
       "</style>\n",
       "<table border=\"1\" class=\"dataframe\">\n",
       "  <thead>\n",
       "    <tr style=\"text-align: right;\">\n",
       "      <th></th>\n",
       "      <th>Symbol</th>\n",
       "      <th>Exchange</th>\n",
       "      <th>Country</th>\n",
       "      <th>Currency</th>\n",
       "      <th>SecType</th>\n",
       "      <th>Etf</th>\n",
       "      <th>Timezone</th>\n",
       "      <th>Name</th>\n",
       "      <th>PriceMagnifier</th>\n",
       "      <th>Multiplier</th>\n",
       "      <th>Delisted</th>\n",
       "      <th>DateDelisted</th>\n",
       "      <th>LastTradeDate</th>\n",
       "      <th>RolloverDate</th>\n",
       "    </tr>\n",
       "    <tr>\n",
       "      <th>Sid</th>\n",
       "      <th></th>\n",
       "      <th></th>\n",
       "      <th></th>\n",
       "      <th></th>\n",
       "      <th></th>\n",
       "      <th></th>\n",
       "      <th></th>\n",
       "      <th></th>\n",
       "      <th></th>\n",
       "      <th></th>\n",
       "      <th></th>\n",
       "      <th></th>\n",
       "      <th></th>\n",
       "      <th></th>\n",
       "    </tr>\n",
       "  </thead>\n",
       "  <tbody>\n",
       "    <tr>\n",
       "      <th>FXAUDUSD</th>\n",
       "      <td>AUD.USD</td>\n",
       "      <td>IDEALPRO</td>\n",
       "      <td>NaN</td>\n",
       "      <td>USD</td>\n",
       "      <td>CASH</td>\n",
       "      <td>False</td>\n",
       "      <td>America/New_York</td>\n",
       "      <td>Australian dollar</td>\n",
       "      <td>1</td>\n",
       "      <td>1</td>\n",
       "      <td>False</td>\n",
       "      <td>NaT</td>\n",
       "      <td>NaT</td>\n",
       "      <td>NaT</td>\n",
       "    </tr>\n",
       "    <tr>\n",
       "      <th>FXEURUSD</th>\n",
       "      <td>EUR.USD</td>\n",
       "      <td>IDEALPRO</td>\n",
       "      <td>NaN</td>\n",
       "      <td>USD</td>\n",
       "      <td>CASH</td>\n",
       "      <td>False</td>\n",
       "      <td>America/New_York</td>\n",
       "      <td>European Monetary Union Euro</td>\n",
       "      <td>1</td>\n",
       "      <td>1</td>\n",
       "      <td>False</td>\n",
       "      <td>NaT</td>\n",
       "      <td>NaT</td>\n",
       "      <td>NaT</td>\n",
       "    </tr>\n",
       "    <tr>\n",
       "      <th>FXGBPUSD</th>\n",
       "      <td>GBP.USD</td>\n",
       "      <td>IDEALPRO</td>\n",
       "      <td>NaN</td>\n",
       "      <td>USD</td>\n",
       "      <td>CASH</td>\n",
       "      <td>False</td>\n",
       "      <td>America/New_York</td>\n",
       "      <td>British pound</td>\n",
       "      <td>1</td>\n",
       "      <td>1</td>\n",
       "      <td>False</td>\n",
       "      <td>NaT</td>\n",
       "      <td>NaT</td>\n",
       "      <td>NaT</td>\n",
       "    </tr>\n",
       "    <tr>\n",
       "      <th>FXNZDUSD</th>\n",
       "      <td>NZD.USD</td>\n",
       "      <td>IDEALPRO</td>\n",
       "      <td>NaN</td>\n",
       "      <td>USD</td>\n",
       "      <td>CASH</td>\n",
       "      <td>False</td>\n",
       "      <td>America/New_York</td>\n",
       "      <td>New Zealand dollar</td>\n",
       "      <td>1</td>\n",
       "      <td>1</td>\n",
       "      <td>False</td>\n",
       "      <td>NaT</td>\n",
       "      <td>NaT</td>\n",
       "      <td>NaT</td>\n",
       "    </tr>\n",
       "    <tr>\n",
       "      <th>FXUSDCAD</th>\n",
       "      <td>USD.CAD</td>\n",
       "      <td>IDEALPRO</td>\n",
       "      <td>NaN</td>\n",
       "      <td>CAD</td>\n",
       "      <td>CASH</td>\n",
       "      <td>False</td>\n",
       "      <td>America/New_York</td>\n",
       "      <td>United States dollar</td>\n",
       "      <td>1</td>\n",
       "      <td>1</td>\n",
       "      <td>False</td>\n",
       "      <td>NaT</td>\n",
       "      <td>NaT</td>\n",
       "      <td>NaT</td>\n",
       "    </tr>\n",
       "    <tr>\n",
       "      <th>FXUSDCHF</th>\n",
       "      <td>USD.CHF</td>\n",
       "      <td>IDEALPRO</td>\n",
       "      <td>NaN</td>\n",
       "      <td>CHF</td>\n",
       "      <td>CASH</td>\n",
       "      <td>False</td>\n",
       "      <td>America/New_York</td>\n",
       "      <td>United States dollar</td>\n",
       "      <td>1</td>\n",
       "      <td>1</td>\n",
       "      <td>False</td>\n",
       "      <td>NaT</td>\n",
       "      <td>NaT</td>\n",
       "      <td>NaT</td>\n",
       "    </tr>\n",
       "    <tr>\n",
       "      <th>FXUSDCNH</th>\n",
       "      <td>USD.CNH</td>\n",
       "      <td>IDEALPRO</td>\n",
       "      <td>NaN</td>\n",
       "      <td>CNH</td>\n",
       "      <td>CASH</td>\n",
       "      <td>False</td>\n",
       "      <td>America/New_York</td>\n",
       "      <td>United States dollar</td>\n",
       "      <td>1</td>\n",
       "      <td>1</td>\n",
       "      <td>False</td>\n",
       "      <td>NaT</td>\n",
       "      <td>NaT</td>\n",
       "      <td>NaT</td>\n",
       "    </tr>\n",
       "    <tr>\n",
       "      <th>FXUSDCZK</th>\n",
       "      <td>USD.CZK</td>\n",
       "      <td>IDEALPRO</td>\n",
       "      <td>NaN</td>\n",
       "      <td>CZK</td>\n",
       "      <td>CASH</td>\n",
       "      <td>False</td>\n",
       "      <td>America/New_York</td>\n",
       "      <td>United States dollar</td>\n",
       "      <td>1</td>\n",
       "      <td>1</td>\n",
       "      <td>False</td>\n",
       "      <td>NaT</td>\n",
       "      <td>NaT</td>\n",
       "      <td>NaT</td>\n",
       "    </tr>\n",
       "    <tr>\n",
       "      <th>FXUSDHKD</th>\n",
       "      <td>USD.HKD</td>\n",
       "      <td>IDEALPRO</td>\n",
       "      <td>NaN</td>\n",
       "      <td>HKD</td>\n",
       "      <td>CASH</td>\n",
       "      <td>False</td>\n",
       "      <td>America/New_York</td>\n",
       "      <td>United States dollar</td>\n",
       "      <td>1</td>\n",
       "      <td>1</td>\n",
       "      <td>False</td>\n",
       "      <td>NaT</td>\n",
       "      <td>NaT</td>\n",
       "      <td>NaT</td>\n",
       "    </tr>\n",
       "    <tr>\n",
       "      <th>FXUSDHUF</th>\n",
       "      <td>USD.HUF</td>\n",
       "      <td>IDEALPRO</td>\n",
       "      <td>NaN</td>\n",
       "      <td>HUF</td>\n",
       "      <td>CASH</td>\n",
       "      <td>False</td>\n",
       "      <td>America/New_York</td>\n",
       "      <td>United States dollar</td>\n",
       "      <td>1</td>\n",
       "      <td>1</td>\n",
       "      <td>False</td>\n",
       "      <td>NaT</td>\n",
       "      <td>NaT</td>\n",
       "      <td>NaT</td>\n",
       "    </tr>\n",
       "    <tr>\n",
       "      <th>FXUSDJPY</th>\n",
       "      <td>USD.JPY</td>\n",
       "      <td>IDEALPRO</td>\n",
       "      <td>NaN</td>\n",
       "      <td>JPY</td>\n",
       "      <td>CASH</td>\n",
       "      <td>False</td>\n",
       "      <td>America/New_York</td>\n",
       "      <td>United States dollar</td>\n",
       "      <td>1</td>\n",
       "      <td>1</td>\n",
       "      <td>False</td>\n",
       "      <td>NaT</td>\n",
       "      <td>NaT</td>\n",
       "      <td>NaT</td>\n",
       "    </tr>\n",
       "    <tr>\n",
       "      <th>FXUSDMXN</th>\n",
       "      <td>USD.MXN</td>\n",
       "      <td>IDEALPRO</td>\n",
       "      <td>NaN</td>\n",
       "      <td>MXN</td>\n",
       "      <td>CASH</td>\n",
       "      <td>False</td>\n",
       "      <td>America/New_York</td>\n",
       "      <td>United States dollar</td>\n",
       "      <td>1</td>\n",
       "      <td>1</td>\n",
       "      <td>False</td>\n",
       "      <td>NaT</td>\n",
       "      <td>NaT</td>\n",
       "      <td>NaT</td>\n",
       "    </tr>\n",
       "    <tr>\n",
       "      <th>FXUSDNOK</th>\n",
       "      <td>USD.NOK</td>\n",
       "      <td>IDEALPRO</td>\n",
       "      <td>NaN</td>\n",
       "      <td>NOK</td>\n",
       "      <td>CASH</td>\n",
       "      <td>False</td>\n",
       "      <td>America/New_York</td>\n",
       "      <td>United States dollar</td>\n",
       "      <td>1</td>\n",
       "      <td>1</td>\n",
       "      <td>False</td>\n",
       "      <td>NaT</td>\n",
       "      <td>NaT</td>\n",
       "      <td>NaT</td>\n",
       "    </tr>\n",
       "    <tr>\n",
       "      <th>FXUSDSEK</th>\n",
       "      <td>USD.SEK</td>\n",
       "      <td>IDEALPRO</td>\n",
       "      <td>NaN</td>\n",
       "      <td>SEK</td>\n",
       "      <td>CASH</td>\n",
       "      <td>False</td>\n",
       "      <td>America/New_York</td>\n",
       "      <td>United States dollar</td>\n",
       "      <td>1</td>\n",
       "      <td>1</td>\n",
       "      <td>False</td>\n",
       "      <td>NaT</td>\n",
       "      <td>NaT</td>\n",
       "      <td>NaT</td>\n",
       "    </tr>\n",
       "    <tr>\n",
       "      <th>FXUSDSGD</th>\n",
       "      <td>USD.SGD</td>\n",
       "      <td>IDEALPRO</td>\n",
       "      <td>NaN</td>\n",
       "      <td>SGD</td>\n",
       "      <td>CASH</td>\n",
       "      <td>False</td>\n",
       "      <td>America/New_York</td>\n",
       "      <td>United States dollar</td>\n",
       "      <td>1</td>\n",
       "      <td>1</td>\n",
       "      <td>False</td>\n",
       "      <td>NaT</td>\n",
       "      <td>NaT</td>\n",
       "      <td>NaT</td>\n",
       "    </tr>\n",
       "    <tr>\n",
       "      <th>FXUSDTRY</th>\n",
       "      <td>USD.TRY</td>\n",
       "      <td>IDEALPRO</td>\n",
       "      <td>NaN</td>\n",
       "      <td>TRY</td>\n",
       "      <td>CASH</td>\n",
       "      <td>False</td>\n",
       "      <td>America/New_York</td>\n",
       "      <td>United States dollar</td>\n",
       "      <td>1</td>\n",
       "      <td>1</td>\n",
       "      <td>False</td>\n",
       "      <td>NaT</td>\n",
       "      <td>NaT</td>\n",
       "      <td>NaT</td>\n",
       "    </tr>\n",
       "    <tr>\n",
       "      <th>FXUSDZAR</th>\n",
       "      <td>USD.ZAR</td>\n",
       "      <td>IDEALPRO</td>\n",
       "      <td>NaN</td>\n",
       "      <td>ZAR</td>\n",
       "      <td>CASH</td>\n",
       "      <td>False</td>\n",
       "      <td>America/New_York</td>\n",
       "      <td>United States dollar</td>\n",
       "      <td>1</td>\n",
       "      <td>1</td>\n",
       "      <td>False</td>\n",
       "      <td>NaT</td>\n",
       "      <td>NaT</td>\n",
       "      <td>NaT</td>\n",
       "    </tr>\n",
       "  </tbody>\n",
       "</table>\n",
       "</div>"
      ],
      "text/plain": [
       "           Symbol  Exchange  Country Currency SecType    Etf  \\\n",
       "Sid                                                            \n",
       "FXAUDUSD  AUD.USD  IDEALPRO      NaN      USD    CASH  False   \n",
       "FXEURUSD  EUR.USD  IDEALPRO      NaN      USD    CASH  False   \n",
       "FXGBPUSD  GBP.USD  IDEALPRO      NaN      USD    CASH  False   \n",
       "FXNZDUSD  NZD.USD  IDEALPRO      NaN      USD    CASH  False   \n",
       "FXUSDCAD  USD.CAD  IDEALPRO      NaN      CAD    CASH  False   \n",
       "FXUSDCHF  USD.CHF  IDEALPRO      NaN      CHF    CASH  False   \n",
       "FXUSDCNH  USD.CNH  IDEALPRO      NaN      CNH    CASH  False   \n",
       "FXUSDCZK  USD.CZK  IDEALPRO      NaN      CZK    CASH  False   \n",
       "FXUSDHKD  USD.HKD  IDEALPRO      NaN      HKD    CASH  False   \n",
       "FXUSDHUF  USD.HUF  IDEALPRO      NaN      HUF    CASH  False   \n",
       "FXUSDJPY  USD.JPY  IDEALPRO      NaN      JPY    CASH  False   \n",
       "FXUSDMXN  USD.MXN  IDEALPRO      NaN      MXN    CASH  False   \n",
       "FXUSDNOK  USD.NOK  IDEALPRO      NaN      NOK    CASH  False   \n",
       "FXUSDSEK  USD.SEK  IDEALPRO      NaN      SEK    CASH  False   \n",
       "FXUSDSGD  USD.SGD  IDEALPRO      NaN      SGD    CASH  False   \n",
       "FXUSDTRY  USD.TRY  IDEALPRO      NaN      TRY    CASH  False   \n",
       "FXUSDZAR  USD.ZAR  IDEALPRO      NaN      ZAR    CASH  False   \n",
       "\n",
       "                  Timezone                          Name  PriceMagnifier  \\\n",
       "Sid                                                                        \n",
       "FXAUDUSD  America/New_York             Australian dollar               1   \n",
       "FXEURUSD  America/New_York  European Monetary Union Euro               1   \n",
       "FXGBPUSD  America/New_York                 British pound               1   \n",
       "FXNZDUSD  America/New_York            New Zealand dollar               1   \n",
       "FXUSDCAD  America/New_York          United States dollar               1   \n",
       "FXUSDCHF  America/New_York          United States dollar               1   \n",
       "FXUSDCNH  America/New_York          United States dollar               1   \n",
       "FXUSDCZK  America/New_York          United States dollar               1   \n",
       "FXUSDHKD  America/New_York          United States dollar               1   \n",
       "FXUSDHUF  America/New_York          United States dollar               1   \n",
       "FXUSDJPY  America/New_York          United States dollar               1   \n",
       "FXUSDMXN  America/New_York          United States dollar               1   \n",
       "FXUSDNOK  America/New_York          United States dollar               1   \n",
       "FXUSDSEK  America/New_York          United States dollar               1   \n",
       "FXUSDSGD  America/New_York          United States dollar               1   \n",
       "FXUSDTRY  America/New_York          United States dollar               1   \n",
       "FXUSDZAR  America/New_York          United States dollar               1   \n",
       "\n",
       "          Multiplier  Delisted DateDelisted LastTradeDate RolloverDate  \n",
       "Sid                                                                     \n",
       "FXAUDUSD           1     False          NaT           NaT          NaT  \n",
       "FXEURUSD           1     False          NaT           NaT          NaT  \n",
       "FXGBPUSD           1     False          NaT           NaT          NaT  \n",
       "FXNZDUSD           1     False          NaT           NaT          NaT  \n",
       "FXUSDCAD           1     False          NaT           NaT          NaT  \n",
       "FXUSDCHF           1     False          NaT           NaT          NaT  \n",
       "FXUSDCNH           1     False          NaT           NaT          NaT  \n",
       "FXUSDCZK           1     False          NaT           NaT          NaT  \n",
       "FXUSDHKD           1     False          NaT           NaT          NaT  \n",
       "FXUSDHUF           1     False          NaT           NaT          NaT  \n",
       "FXUSDJPY           1     False          NaT           NaT          NaT  \n",
       "FXUSDMXN           1     False          NaT           NaT          NaT  \n",
       "FXUSDNOK           1     False          NaT           NaT          NaT  \n",
       "FXUSDSEK           1     False          NaT           NaT          NaT  \n",
       "FXUSDSGD           1     False          NaT           NaT          NaT  \n",
       "FXUSDTRY           1     False          NaT           NaT          NaT  \n",
       "FXUSDZAR           1     False          NaT           NaT          NaT  "
      ]
     },
     "execution_count": 198,
     "metadata": {},
     "output_type": "execute_result"
    }
   ],
   "source": [
    "get_securities(sec_types=\"CASH\")"
   ]
  },
  {
   "cell_type": "code",
   "execution_count": 196,
   "id": "6ad2a25b-829c-414f-88ef-63971c8abde8",
   "metadata": {},
   "outputs": [
    {
     "data": {
      "text/html": [
       "<div>\n",
       "<style scoped>\n",
       "    .dataframe tbody tr th:only-of-type {\n",
       "        vertical-align: middle;\n",
       "    }\n",
       "\n",
       "    .dataframe tbody tr th {\n",
       "        vertical-align: top;\n",
       "    }\n",
       "\n",
       "    .dataframe thead th {\n",
       "        text-align: right;\n",
       "    }\n",
       "</style>\n",
       "<table border=\"1\" class=\"dataframe\">\n",
       "  <thead>\n",
       "    <tr style=\"text-align: right;\">\n",
       "      <th></th>\n",
       "      <th>Sid</th>\n",
       "      <th>Symbol</th>\n",
       "    </tr>\n",
       "  </thead>\n",
       "  <tbody>\n",
       "    <tr>\n",
       "      <th>0</th>\n",
       "      <td>FXAUDUSD</td>\n",
       "      <td>AUD.USD</td>\n",
       "    </tr>\n",
       "    <tr>\n",
       "      <th>1</th>\n",
       "      <td>FXEURUSD</td>\n",
       "      <td>EUR.USD</td>\n",
       "    </tr>\n",
       "    <tr>\n",
       "      <th>2</th>\n",
       "      <td>FXGBPUSD</td>\n",
       "      <td>GBP.USD</td>\n",
       "    </tr>\n",
       "    <tr>\n",
       "      <th>3</th>\n",
       "      <td>FXNZDUSD</td>\n",
       "      <td>NZD.USD</td>\n",
       "    </tr>\n",
       "    <tr>\n",
       "      <th>4</th>\n",
       "      <td>FXUSDCAD</td>\n",
       "      <td>USD.CAD</td>\n",
       "    </tr>\n",
       "    <tr>\n",
       "      <th>5</th>\n",
       "      <td>FXUSDCHF</td>\n",
       "      <td>USD.CHF</td>\n",
       "    </tr>\n",
       "    <tr>\n",
       "      <th>6</th>\n",
       "      <td>FXUSDCNH</td>\n",
       "      <td>USD.CNH</td>\n",
       "    </tr>\n",
       "    <tr>\n",
       "      <th>7</th>\n",
       "      <td>FXUSDCZK</td>\n",
       "      <td>USD.CZK</td>\n",
       "    </tr>\n",
       "    <tr>\n",
       "      <th>8</th>\n",
       "      <td>FXUSDHKD</td>\n",
       "      <td>USD.HKD</td>\n",
       "    </tr>\n",
       "    <tr>\n",
       "      <th>9</th>\n",
       "      <td>FXUSDHUF</td>\n",
       "      <td>USD.HUF</td>\n",
       "    </tr>\n",
       "    <tr>\n",
       "      <th>10</th>\n",
       "      <td>FXUSDJPY</td>\n",
       "      <td>USD.JPY</td>\n",
       "    </tr>\n",
       "    <tr>\n",
       "      <th>11</th>\n",
       "      <td>FXUSDMXN</td>\n",
       "      <td>USD.MXN</td>\n",
       "    </tr>\n",
       "    <tr>\n",
       "      <th>12</th>\n",
       "      <td>FXUSDNOK</td>\n",
       "      <td>USD.NOK</td>\n",
       "    </tr>\n",
       "    <tr>\n",
       "      <th>13</th>\n",
       "      <td>FXUSDSEK</td>\n",
       "      <td>USD.SEK</td>\n",
       "    </tr>\n",
       "    <tr>\n",
       "      <th>14</th>\n",
       "      <td>FXUSDSGD</td>\n",
       "      <td>USD.SGD</td>\n",
       "    </tr>\n",
       "    <tr>\n",
       "      <th>15</th>\n",
       "      <td>FXUSDTRY</td>\n",
       "      <td>USD.TRY</td>\n",
       "    </tr>\n",
       "    <tr>\n",
       "      <th>16</th>\n",
       "      <td>FXUSDZAR</td>\n",
       "      <td>USD.ZAR</td>\n",
       "    </tr>\n",
       "  </tbody>\n",
       "</table>\n",
       "</div>"
      ],
      "text/plain": [
       "         Sid   Symbol\n",
       "0   FXAUDUSD  AUD.USD\n",
       "1   FXEURUSD  EUR.USD\n",
       "2   FXGBPUSD  GBP.USD\n",
       "3   FXNZDUSD  NZD.USD\n",
       "4   FXUSDCAD  USD.CAD\n",
       "5   FXUSDCHF  USD.CHF\n",
       "6   FXUSDCNH  USD.CNH\n",
       "7   FXUSDCZK  USD.CZK\n",
       "8   FXUSDHKD  USD.HKD\n",
       "9   FXUSDHUF  USD.HUF\n",
       "10  FXUSDJPY  USD.JPY\n",
       "11  FXUSDMXN  USD.MXN\n",
       "12  FXUSDNOK  USD.NOK\n",
       "13  FXUSDSEK  USD.SEK\n",
       "14  FXUSDSGD  USD.SGD\n",
       "15  FXUSDTRY  USD.TRY\n",
       "16  FXUSDZAR  USD.ZAR"
      ]
     },
     "execution_count": 196,
     "metadata": {},
     "output_type": "execute_result"
    }
   ],
   "source": [
    "df_fx.reset_index()[['Sid', 'Symbol']]"
   ]
  },
  {
   "cell_type": "markdown",
   "id": "d80bb9e8-ccad-4287-b100-539033dc3108",
   "metadata": {
    "tags": []
   },
   "source": [
    "## data setup"
   ]
  },
  {
   "cell_type": "markdown",
   "id": "09f1dabf-eaa2-4397-b0e5-75bb6713c1c2",
   "metadata": {
    "tags": []
   },
   "source": [
    "### create db"
   ]
  },
  {
   "cell_type": "code",
   "execution_count": 112,
   "id": "75279bcd-aef3-4ef6-981e-b77f801da75c",
   "metadata": {
    "collapsed": true,
    "jupyter": {
     "outputs_hidden": true
    },
    "tags": []
   },
   "outputs": [
    {
     "ename": "HTTPError",
     "evalue": "('400 Client Error: BAD REQUEST for url: http://houston/history/databases/china-1d?vendor=edi&exchanges=XSHG', {'status': 'error', 'msg': 'quantrocket.v2.history.china-1d.sqlite already exists'})",
     "output_type": "error",
     "traceback": [
      "\u001b[0;31m---------------------------------------------------------------------------\u001b[0m",
      "\u001b[0;31mHTTPError\u001b[0m                                 Traceback (most recent call last)",
      "Input \u001b[0;32mIn [112]\u001b[0m, in \u001b[0;36m<cell line: 2>\u001b[0;34m()\u001b[0m\n\u001b[1;32m      1\u001b[0m \u001b[38;5;66;03m# NOTC, XBUD, XCNQ, XJPX, XKRX, XLON, XMEX, XNZE, XSHG, XTSE\u001b[39;00m\n\u001b[0;32m----> 2\u001b[0m \u001b[43mcreate_edi_db\u001b[49m\u001b[43m(\u001b[49m\u001b[38;5;124;43m\"\u001b[39;49m\u001b[38;5;124;43mchina-1d\u001b[39;49m\u001b[38;5;124;43m\"\u001b[39;49m\u001b[43m,\u001b[49m\u001b[43m \u001b[49m\u001b[43mexchanges\u001b[49m\u001b[38;5;241;43m=\u001b[39;49m\u001b[43m[\u001b[49m\u001b[38;5;124;43m\"\u001b[39;49m\u001b[38;5;124;43mXSHG\u001b[39;49m\u001b[38;5;124;43m\"\u001b[39;49m\u001b[43m]\u001b[49m\u001b[43m)\u001b[49m\n\u001b[1;32m      3\u001b[0m create_edi_db(\u001b[38;5;124m\"\u001b[39m\u001b[38;5;124mnorway-1d\u001b[39m\u001b[38;5;124m\"\u001b[39m, exchanges\u001b[38;5;241m=\u001b[39m[\u001b[38;5;124m\"\u001b[39m\u001b[38;5;124mNOTC\u001b[39m\u001b[38;5;124m\"\u001b[39m])\n\u001b[1;32m      4\u001b[0m create_edi_db(\u001b[38;5;124m\"\u001b[39m\u001b[38;5;124mhungary-1d\u001b[39m\u001b[38;5;124m\"\u001b[39m, exchanges\u001b[38;5;241m=\u001b[39m[\u001b[38;5;124m\"\u001b[39m\u001b[38;5;124mXBUD\u001b[39m\u001b[38;5;124m\"\u001b[39m])\n",
      "File \u001b[0;32m/opt/conda/lib/python3.9/site-packages/quantrocket/history.py:67\u001b[0m, in \u001b[0;36mcreate_edi_db\u001b[0;34m(code, exchanges)\u001b[0m\n\u001b[1;32m     61\u001b[0m params \u001b[38;5;241m=\u001b[39m {\n\u001b[1;32m     62\u001b[0m     \u001b[38;5;124m\"\u001b[39m\u001b[38;5;124mvendor\u001b[39m\u001b[38;5;124m\"\u001b[39m: \u001b[38;5;124m\"\u001b[39m\u001b[38;5;124medi\u001b[39m\u001b[38;5;124m\"\u001b[39m,\n\u001b[1;32m     63\u001b[0m     \u001b[38;5;124m\"\u001b[39m\u001b[38;5;124mexchanges\u001b[39m\u001b[38;5;124m\"\u001b[39m: exchanges\n\u001b[1;32m     64\u001b[0m }\n\u001b[1;32m     65\u001b[0m response \u001b[38;5;241m=\u001b[39m houston\u001b[38;5;241m.\u001b[39mput(\u001b[38;5;124m\"\u001b[39m\u001b[38;5;124m/history/databases/\u001b[39m\u001b[38;5;132;01m{0}\u001b[39;00m\u001b[38;5;124m\"\u001b[39m\u001b[38;5;241m.\u001b[39mformat(code), params\u001b[38;5;241m=\u001b[39mparams)\n\u001b[0;32m---> 67\u001b[0m \u001b[43mhouston\u001b[49m\u001b[38;5;241;43m.\u001b[39;49m\u001b[43mraise_for_status_with_json\u001b[49m\u001b[43m(\u001b[49m\u001b[43mresponse\u001b[49m\u001b[43m)\u001b[49m\n\u001b[1;32m     68\u001b[0m \u001b[38;5;28;01mreturn\u001b[39;00m response\u001b[38;5;241m.\u001b[39mjson()\n",
      "File \u001b[0;32m/opt/conda/lib/python3.9/site-packages/quantrocket/houston.py:212\u001b[0m, in \u001b[0;36mHouston.raise_for_status_with_json\u001b[0;34m(response)\u001b[0m\n\u001b[1;32m    210\u001b[0m     e\u001b[38;5;241m.\u001b[39mjson_response \u001b[38;5;241m=\u001b[39m {}\n\u001b[1;32m    211\u001b[0m     e\u001b[38;5;241m.\u001b[39margs \u001b[38;5;241m=\u001b[39m e\u001b[38;5;241m.\u001b[39margs \u001b[38;5;241m+\u001b[39m (\u001b[38;5;124m\"\u001b[39m\u001b[38;5;124mplease check the logs for more details\u001b[39m\u001b[38;5;124m\"\u001b[39m,)\n\u001b[0;32m--> 212\u001b[0m \u001b[38;5;28;01mraise\u001b[39;00m e\n",
      "File \u001b[0;32m/opt/conda/lib/python3.9/site-packages/quantrocket/houston.py:204\u001b[0m, in \u001b[0;36mHouston.raise_for_status_with_json\u001b[0;34m(response)\u001b[0m\n\u001b[1;32m    199\u001b[0m \u001b[38;5;124;03m\"\"\"\u001b[39;00m\n\u001b[1;32m    200\u001b[0m \u001b[38;5;124;03mRaises 400/500 error codes, attaching a json response to the\u001b[39;00m\n\u001b[1;32m    201\u001b[0m \u001b[38;5;124;03mexception, if possible.\u001b[39;00m\n\u001b[1;32m    202\u001b[0m \u001b[38;5;124;03m\"\"\"\u001b[39;00m\n\u001b[1;32m    203\u001b[0m \u001b[38;5;28;01mtry\u001b[39;00m:\n\u001b[0;32m--> 204\u001b[0m     \u001b[43mresponse\u001b[49m\u001b[38;5;241;43m.\u001b[39;49m\u001b[43mraise_for_status\u001b[49m\u001b[43m(\u001b[49m\u001b[43m)\u001b[49m\n\u001b[1;32m    205\u001b[0m \u001b[38;5;28;01mexcept\u001b[39;00m requests\u001b[38;5;241m.\u001b[39mexceptions\u001b[38;5;241m.\u001b[39mHTTPError \u001b[38;5;28;01mas\u001b[39;00m e:\n\u001b[1;32m    206\u001b[0m     \u001b[38;5;28;01mtry\u001b[39;00m:\n",
      "File \u001b[0;32m/opt/conda/lib/python3.9/site-packages/requests/models.py:960\u001b[0m, in \u001b[0;36mResponse.raise_for_status\u001b[0;34m(self)\u001b[0m\n\u001b[1;32m    957\u001b[0m     http_error_msg \u001b[38;5;241m=\u001b[39m \u001b[38;5;124mu\u001b[39m\u001b[38;5;124m'\u001b[39m\u001b[38;5;132;01m%s\u001b[39;00m\u001b[38;5;124m Server Error: \u001b[39m\u001b[38;5;132;01m%s\u001b[39;00m\u001b[38;5;124m for url: \u001b[39m\u001b[38;5;132;01m%s\u001b[39;00m\u001b[38;5;124m'\u001b[39m \u001b[38;5;241m%\u001b[39m (\u001b[38;5;28mself\u001b[39m\u001b[38;5;241m.\u001b[39mstatus_code, reason, \u001b[38;5;28mself\u001b[39m\u001b[38;5;241m.\u001b[39murl)\n\u001b[1;32m    959\u001b[0m \u001b[38;5;28;01mif\u001b[39;00m http_error_msg:\n\u001b[0;32m--> 960\u001b[0m     \u001b[38;5;28;01mraise\u001b[39;00m HTTPError(http_error_msg, response\u001b[38;5;241m=\u001b[39m\u001b[38;5;28mself\u001b[39m)\n",
      "\u001b[0;31mHTTPError\u001b[0m: ('400 Client Error: BAD REQUEST for url: http://houston/history/databases/china-1d?vendor=edi&exchanges=XSHG', {'status': 'error', 'msg': 'quantrocket.v2.history.china-1d.sqlite already exists'})"
     ]
    }
   ],
   "source": [
    "# NOTC, XBUD, XCNQ, XJPX, XKRX, XLON, XMEX, XNZE, XSHG, XTSE\n",
    "create_edi_db(\"china-1d\", exchanges=[\"XSHG\"])\n",
    "create_edi_db(\"norway-1d\", exchanges=[\"NOTC\"])\n",
    "create_edi_db(\"hungary-1d\", exchanges=[\"XBUD\"])\n",
    "create_edi_db(\"canada-1d\", exchanges=[\"XCNQ\", \"XTSE\"])\n",
    "create_edi_db(\"japan-1d\", exchanges=[\"XJPX\"])\n",
    "create_edi_db(\"london-1d\", exchanges=[\"XLON\"])\n",
    "create_edi_db(\"mexico-1d\", exchanges=[\"XMEX\"])\n",
    "create_edi_db(\"newzealand-1d\", exchanges=[\"XNZE\"])\n",
    "create_edi_db(\"korea-1d\", exchanges=[\"XKRX\"])\n",
    "\n",
    "# XETR, XHKG, XKOS, XNAS, XNYS, XOTC, XPAR, XSES, XSTO, XSWX\n",
    "create_edi_db(\"germany-1d\", exchanges=[\"XETR\"])\n",
    "create_edi_db(\"hongkong-1d\", exchanges=[\"XHKG\"])\n",
    "create_edi_db(\"kosdaq-1d\", exchanges=[\"XKOS\"])\n",
    "create_edi_db(\"nasdaq-1d\", exchanges=[\"XNAS\"])\n",
    "create_edi_db(\"nyse-1d\", exchanges=[\"XNYS\"])\n",
    "create_edi_db(\"usotc-1d\", exchanges=[\"XOTC\"])\n",
    "create_edi_db(\"france-1d\", exchanges=[\"XPAR\"])\n",
    "create_edi_db(\"singapore-1d\", exchanges=[\"XSES\"])\n",
    "create_edi_db(\"sweden-1d\", exchanges=[\"XSTO\"])\n",
    "create_edi_db(\"swiss-1d\", exchanges=[\"XSWX\"])\n",
    "\n",
    "create_edi_db(\"global-1d\", exchanges=[\"XSHG\", \"NOTC\", \"XBUD\", \"XCNQ\", \"XTSE\", \"XJPX\", \"XLON\", \"XMEX\", \"XNZE\", \"XKRX\", \"XETR\", \"XHKG\", \"XKOS\", \"XNAS\", \"XNYS\", \"XOTC\", \"XPAR\", \"XSES\", \"XSTO\", \"XSWX\"])"
   ]
  },
  {
   "cell_type": "code",
   "execution_count": null,
   "id": "55dbdf43-6215-4113-a6f6-c3d143442c00",
   "metadata": {},
   "outputs": [],
   "source": [
    "create_ibkr_db(\"global-indices-1d\", sids=sids, bar_size=\"1 day\", bar_type=\"ADJUSTED_LAST\", shard=\"off\")"
   ]
  },
  {
   "cell_type": "code",
   "execution_count": 206,
   "id": "0025dfc8-6ce1-49db-8ca7-0688981d43b8",
   "metadata": {},
   "outputs": [],
   "source": [
    "sids_cash = list(get_securities(sec_types=\"CASH\").reset_index()['Sid'].values)"
   ]
  },
  {
   "cell_type": "code",
   "execution_count": 208,
   "id": "13c31008-a1d7-46f7-89d7-60ef9076da9d",
   "metadata": {
    "tags": []
   },
   "outputs": [
    {
     "data": {
      "text/plain": [
       "{'status': 'successfully created quantrocket.v2.history.fx-1d.sqlite'}"
      ]
     },
     "execution_count": 208,
     "metadata": {},
     "output_type": "execute_result"
    }
   ],
   "source": [
    "#drop_db(\"fx-1d\", confirm_by_typing_db_code_again=\"fx-1d\")\n",
    "create_ibkr_db(\"fx-1d\", sids=sids_cash, bar_size=\"1 day\", bar_type=\"MIDPOINT\", shard=\"off\")"
   ]
  },
  {
   "cell_type": "markdown",
   "id": "f76c57f5-bc7c-4b1b-887f-0a66de55497c",
   "metadata": {},
   "source": [
    "### create bundle"
   ]
  },
  {
   "cell_type": "code",
   "execution_count": null,
   "id": "1ba06225-1a23-4317-8a8a-5ee849d0f138",
   "metadata": {},
   "outputs": [],
   "source": [
    "create_usstock_bundle(\"usstock-1d\", data_frequency=\"daily\")"
   ]
  },
  {
   "cell_type": "code",
   "execution_count": 46,
   "id": "81ae6e60-5e42-4678-9be7-dbff80e955ae",
   "metadata": {},
   "outputs": [
    {
     "data": {
      "text/plain": [
       "{'status': 'success',\n",
       " 'msg': 'successfully created bundle-global-currency-flow-indices-1d bundle'}"
      ]
     },
     "execution_count": 46,
     "metadata": {},
     "output_type": "execute_result"
    }
   ],
   "source": [
    "#drop_bundle(\"bundle-global-currency-flow-indices-1d\", confirm_by_typing_bundle_code_again=\"bundle-global-currency-flow-indices-1d\")\n",
    "create_bundle_from_db(\"bundle-global-currency-flow-indices-1d\", \"global-1d\", \"24/5\", start_date=\"2014-01-01\", sids=sids_index + [sid_snp500])"
   ]
  },
  {
   "cell_type": "code",
   "execution_count": 83,
   "id": "eb54184a-fd5f-4d63-a409-80d1696ea69d",
   "metadata": {},
   "outputs": [
    {
     "data": {
      "text/plain": [
       "{'status': 'success',\n",
       " 'msg': 'successfully created bundle-global-currency-flow-indices-1d bundle'}"
      ]
     },
     "execution_count": 83,
     "metadata": {},
     "output_type": "execute_result"
    }
   ],
   "source": [
    "#drop_bundle(\"bundle-global-currency-flow-indices-1d\", confirm_by_typing_bundle_code_again=\"bundle-global-currency-flow-indices-1d\")\n",
    "create_bundle_from_db(\"bundle-global-currency-flow-indices-1d\", [\"global-1d\", \"fx-1d\"], \"24/5\", start_date=\"2014-01-01\", sids=sids_index + [sid_snp500]) # + sids_currency"
   ]
  },
  {
   "cell_type": "code",
   "execution_count": 86,
   "id": "7f9faeca-f9b8-4bbc-aac3-ede866719b16",
   "metadata": {},
   "outputs": [
    {
     "data": {
      "text/plain": [
       "{'status': 'success', 'msg': 'successfully created fx-1d bundle'}"
      ]
     },
     "execution_count": 86,
     "metadata": {},
     "output_type": "execute_result"
    }
   ],
   "source": [
    "#drop_bundle(\"fx-1d\", confirm_by_typing_bundle_code_again=\"bundle-global-currency-flow-indices-1d\")\n",
    "create_bundle_from_db(\"fx-1d\", \"fx-1d\", \"24/5\", start_date=\"2014-01-01\", sids=sids_currency)"
   ]
  },
  {
   "cell_type": "markdown",
   "id": "fbe2fc8a-53a4-41cd-9e3e-6975c27b84d2",
   "metadata": {},
   "source": [
    "### create universe"
   ]
  },
  {
   "cell_type": "code",
   "execution_count": 125,
   "id": "574b03bc-1f14-42ca-9e0e-ad9c3dd3c0e9",
   "metadata": {},
   "outputs": [
    {
     "data": {
      "text/plain": [
       "{'code': 'global-1d', 'provided': 11, 'inserted': 11, 'total_after_insert': 11}"
      ]
     },
     "execution_count": 125,
     "metadata": {},
     "output_type": "execute_result"
    }
   ],
   "source": [
    "sids_trading_currency_flow = [\"FIBBG00203J8V6\", \"FIBBG0029T2KJ5\", \"FIBBG000BL97R6\", \"FIBBG0015XN496\", \"FIBBG000QGWGG7\", \"FIBBG000QZXB02\", \"FIBBG001CGQZG5\", \"FIBBG000PQY818\", \"FIBBG0017DVJR6\", \"FIBBG001CGQZJ2\", \"FIBBG007V5QTW1\"]\n",
    "create_universe(\"global-1d\", sids=sids_trading_currency_flow, replace=True)"
   ]
  },
  {
   "cell_type": "code",
   "execution_count": 123,
   "id": "558eaf47-7407-4250-9fc1-b1e3a2056bff",
   "metadata": {},
   "outputs": [
    {
     "data": {
      "text/plain": [
       "{'code': 'global-indiced-1d',\n",
       " 'provided': 8,\n",
       " 'inserted': 8,\n",
       " 'total_after_insert': 8}"
      ]
     },
     "execution_count": 123,
     "metadata": {},
     "output_type": "execute_result"
    }
   ],
   "source": [
    "create_universe(\"global-indiced-1d\", sids=sids_index, replace=True)"
   ]
  },
  {
   "cell_type": "code",
   "execution_count": 88,
   "id": "f0a4c477-3543-4f1e-afe0-1c9c875f374f",
   "metadata": {},
   "outputs": [
    {
     "data": {
      "text/plain": [
       "{'code': 'fx-1d', 'provided': 20, 'inserted': 20, 'total_after_insert': 20}"
      ]
     },
     "execution_count": 88,
     "metadata": {},
     "output_type": "execute_result"
    }
   ],
   "source": [
    "create_universe(\"fx-1d\", sids=sids_currency, replace=True)"
   ]
  },
  {
   "cell_type": "code",
   "execution_count": 141,
   "id": "fa1caf28-bb10-45bc-ad94-1e2b21180651",
   "metadata": {},
   "outputs": [
    {
     "data": {
      "text/plain": [
       "{'code': 'trading-currency-flows-1d-1',\n",
       " 'provided': 28,\n",
       " 'inserted': 28,\n",
       " 'total_after_insert': 28}"
      ]
     },
     "execution_count": 141,
     "metadata": {},
     "output_type": "execute_result"
    }
   ],
   "source": [
    "create_universe(\"trading-currency-flows-1d-1\", sids=sids_index+sids_currency, replace=True)"
   ]
  },
  {
   "cell_type": "code",
   "execution_count": 104,
   "id": "351f3d60-9a4a-4416-bd27-66f444565254",
   "metadata": {},
   "outputs": [
    {
     "data": {
      "text/plain": [
       "{'code': 'trading-currency-flows-1d', 'deleted': 28}"
      ]
     },
     "execution_count": 104,
     "metadata": {},
     "output_type": "execute_result"
    }
   ],
   "source": [
    "delete_universe(\"trading-currency-flows-1d\")"
   ]
  },
  {
   "cell_type": "markdown",
   "id": "2a19de65-db6f-4d81-aef7-6f80621c7f44",
   "metadata": {},
   "source": [
    "### collect db"
   ]
  },
  {
   "cell_type": "code",
   "execution_count": null,
   "id": "bed19ddf-e2d4-4e9e-859c-e0d673181911",
   "metadata": {},
   "outputs": [],
   "source": [
    "collect_history(\"global-1d\")"
   ]
  },
  {
   "cell_type": "code",
   "execution_count": null,
   "id": "cfcd393c-60b3-44a6-be9c-1b1c72d88209",
   "metadata": {},
   "outputs": [],
   "source": [
    "collect_history(\"global-indices-1d\")"
   ]
  },
  {
   "cell_type": "code",
   "execution_count": 209,
   "id": "071adf2f-935d-4a00-9298-78dae97ddcb8",
   "metadata": {},
   "outputs": [
    {
     "data": {
      "text/plain": [
       "{'status': 'the historical data will be collected asynchronously'}"
      ]
     },
     "execution_count": 209,
     "metadata": {},
     "output_type": "execute_result"
    }
   ],
   "source": [
    "collect_history(\"fx-1d\")"
   ]
  },
  {
   "cell_type": "markdown",
   "id": "1ed8dcef-e36f-4ef5-877c-7e0ecb907472",
   "metadata": {},
   "source": [
    "### ingest bundle"
   ]
  },
  {
   "cell_type": "code",
   "execution_count": null,
   "id": "0469fa83-e488-48ff-92eb-c44ece93cb4c",
   "metadata": {},
   "outputs": [],
   "source": [
    "ingest_bundle(\"usstock-1d\")"
   ]
  },
  {
   "cell_type": "code",
   "execution_count": 84,
   "id": "478f7a4e-d52c-4c9e-87bf-ec86663280a3",
   "metadata": {},
   "outputs": [
    {
     "data": {
      "text/plain": [
       "{'status': 'the data will be ingested asynchronously'}"
      ]
     },
     "execution_count": 84,
     "metadata": {},
     "output_type": "execute_result"
    }
   ],
   "source": [
    "ingest_bundle(\"bundle-global-currency-flow-indices-1d\")"
   ]
  },
  {
   "cell_type": "markdown",
   "id": "ae73150d-64f4-4fd8-bc48-41103479078e",
   "metadata": {},
   "source": [
    "### data setup sanity check"
   ]
  },
  {
   "cell_type": "code",
   "execution_count": 158,
   "id": "ab52c4d8-a2c5-4412-ac13-10d6947456c8",
   "metadata": {},
   "outputs": [],
   "source": [
    "df_indx = get_securities(symbols_indx, sec_types=\"IND\")"
   ]
  },
  {
   "cell_type": "code",
   "execution_count": 327,
   "id": "08855737-b80f-482d-a8a8-b3230917192f",
   "metadata": {},
   "outputs": [],
   "source": [
    "global_indices = get_securities([\"SPX\", \"XIN9I\", \"NMX\", \"CTX\", \"AP\", \"PTX\", \"N225\", \"MXSG\", \"NK\", \"OMXS30\", \"VNX\", \"WXE\", \"TSE35\", \"EWL.IV\", \"FLZA\", \"MXE\"])\n",
    "global_indices = global_indices[(global_indices.Delisted == False) & ~(global_indices['Name'].str.contains(\"CORP\"))]"
   ]
  },
  {
   "cell_type": "code",
   "execution_count": 22,
   "id": "8961c28e-191b-4b2e-a1ba-4f71bd1d626e",
   "metadata": {},
   "outputs": [
    {
     "data": {
      "text/plain": [
       "{'status': 'success', 'msg': 'successfully created usstock-1d bundle'}"
      ]
     },
     "execution_count": 22,
     "metadata": {},
     "output_type": "execute_result"
    }
   ],
   "source": [
    "create_usstock_bundle(\"usstock-1d\", data_frequency=\"daily\")"
   ]
  },
  {
   "cell_type": "code",
   "execution_count": 90,
   "id": "34d72b05-b634-4df3-9ff7-12545c66af4f",
   "metadata": {},
   "outputs": [
    {
     "data": {
      "text/plain": [
       "{'ingest_type': 'from_db',\n",
       " 'from_db': ['global-1d'],\n",
       " 'data_frequency': 'daily',\n",
       " 'start_date': '2014-01-01',\n",
       " 'end_date': None,\n",
       " 'universes': None,\n",
       " 'sids': ['FIBBG006H1RJZ6',\n",
       "  'FIBBG000QW7RC0',\n",
       "  'FIBBG009S0XQY8',\n",
       "  'FIBBG0015XN496',\n",
       "  'FIBBG001DQBCC3',\n",
       "  'FIBBG000DPT7D8',\n",
       "  'FIBBG0017DVJR6',\n",
       "  'FIBBG0015M9W30',\n",
       "  'FIBBG003MVLMY1'],\n",
       " 'exclude_universes': None,\n",
       " 'exclude_sids': None,\n",
       " 'fields': {'Open': 'open',\n",
       "  'High': 'high',\n",
       "  'Low': 'low',\n",
       "  'Close': 'close',\n",
       "  'Volume': 'volume'},\n",
       " 'calendar': '24/5'}"
      ]
     },
     "execution_count": 90,
     "metadata": {},
     "output_type": "execute_result"
    }
   ],
   "source": [
    "get_bundle_config(\"bundle-global-currency-flow-indices-1d\")"
   ]
  },
  {
   "cell_type": "markdown",
   "id": "5ee026ef-c83a-4a2d-acf3-e0163bcdcba4",
   "metadata": {},
   "source": [
    "## pick up ind sids"
   ]
  },
  {
   "cell_type": "code",
   "execution_count": 214,
   "id": "92185e4f-d292-4f69-8e46-1dfc2b8893c4",
   "metadata": {},
   "outputs": [],
   "source": [
    "# china: FIBBG00203J8V6\n",
    "# canada: FIBBG006H1RJZ6\n",
    "# japan: FIBBG009S0XQY8\n",
    "# mexico: FIBBG0015XN496 (london-1d)\n",
    "# hungary: FIBBG000QGWGG7\n",
    "# sweden: FIBBG000QZXB02 (mexico-1d)\n",
    "# poland: FIBBG001CGQZG5 (mexico-1d)\n",
    "# korea: FIBBG000PQY818 (mexico-1d)\n",
    "# thailand: FIBBG0017DVJR6 (london-1d)\n",
    "# newzealand: FIBBG001CGQZJ2 (mexico-1d)\n",
    "# hong kong: FIBBG007V5QTW1 (china-1d)\n",
    "\n",
    "name_to_index_sid_databases = {\n",
    "    \"china\": (\"FIBBG006H1RJZ6\", \"\"), \"canada\": (\"FIBBG000QW7RC0\", \"\"), \n",
    "    \"japan\": (\"FIBBG009S0XQY8\", \"\"), \"mexico\": (\"FIBBG0015XN496\", \"london-1d\"), \n",
    "    #\"hungary\": (\"FIBBG000QGWGG7\", \"hungary-1d\"), # not yet found the one in USD currency\n",
    "    #\"sweden\": (\"FIBBG000QZXB02\", \"mexico-1d\"), # not yet found the one in the USD currency\n",
    "    \"poland\": (\"FIBBG001DQBCC3\", \"london-1d\"), \n",
    "    \"korea\": (\"FIBBG000DPT7D8\", \"\"), \n",
    "    \"thailand\": (\"FIBBG0017DVJR6\", \"london-1d\"), \n",
    "    \"newzealand\": (\"FIBBG0015M9W30\", \"nasdaq-1d\"), \n",
    "    #\"hongkong\": (\"FIBBG007V5QTW1\", \"china-1d\"), # hkd is pegged to usd thus excluded\n",
    "}\n",
    "\n",
    "name_to_currency_sids = {\n",
    "    \"australia\": \"FXAUDUSD\",\n",
    "    \"china\": \"FXUSDCNH\", # china\n",
    "    \"newzealand\": \"FXNZDUSD\", #newzealand\n",
    "    \"norway\": \"FXUSDNOK\", # norway\n",
    "    \"canada\": \"FXUSDCAD\", # canada\n",
    "    \"japan\": \"FXUSDJPY\", # japan\n",
    "    #\"thailand\": \"FXUSDTHB\", # not in sids_cash\n",
    "    \"swiss\": \"FXUSDCHF\", # swiss\n",
    "    \"turkey\": \"FXUSDTRY\", # turkey\n",
    "    #\"poland\": \"FXUSDPLN\", # poland # not in sids_cash\n",
    "    \"singapore\": \"FXUSDSGD\",\n",
    "    \"zecko\": \"FXUSDCZK\",\n",
    "    \"denmark\": \"FXUSDDKK\", # denmark\n",
    "    \"hungary\": \"FXUSDHUF\", # hungary\n",
    "    \"eu\": \"FXEURUSD\",\n",
    "    \"england\": \"FXGBPUSD\", # uk\n",
    "    \"mexico\": \"FXUSDMXN\", # mexico\n",
    "    \"hongkong\": \"FXUSDHKD\",\n",
    "    \"sweden\": \"FXUSDSEK\", # sweden\n",
    "    \"southafrica\": \"FXUSDZAR\",\n",
    "    \"korea\": \"FXUSDKRW\",\n",
    "}\n",
    "\n",
    "sids_index = list(map(lambda p: p[0], name_to_index_sid_databases.values()))\n",
    "sids_currency = list(map(lambda sid: sid.replace(\".\", \"\"), name_to_currency_sids.values()))\n",
    "sid_snp500 = \"FIBBG003MVLMY1\""
   ]
  },
  {
   "cell_type": "code",
   "execution_count": 215,
   "id": "b3add9c0-b2ea-4c1e-a56a-5454108cdf8a",
   "metadata": {},
   "outputs": [
    {
     "data": {
      "text/plain": [
       "<AxesSubplot:xlabel='Field,Date'>"
      ]
     },
     "execution_count": 215,
     "metadata": {},
     "output_type": "execute_result"
    },
    {
     "data": {
      "image/png": "[encoded data removed]",
      "text/plain": [
       "<Figure size 1152x432 with 1 Axes>"
      ]
     },
     "metadata": {},
     "output_type": "display_data"
    }
   ],
   "source": [
    "get_prices(\"fx-1d\", sids=[\"FXUSDTRY\"], fields=\"Close\", data_frequency=\"d\").plot()"
   ]
  },
  {
   "cell_type": "code",
   "execution_count": 100,
   "id": "272161cb-2a24-409f-ba7b-c945ed46d95f",
   "metadata": {},
   "outputs": [
    {
     "data": {
      "text/plain": [
       "<AxesSubplot:xlabel='Field,Date'>"
      ]
     },
     "execution_count": 100,
     "metadata": {},
     "output_type": "execute_result"
    },
    {
     "data": {
      "image/png": "[encoded data removed]",
      "text/plain": [
       "<Figure size 1152x432 with 1 Axes>"
      ]
     },
     "metadata": {},
     "output_type": "display_data"
    }
   ],
   "source": [
    "get_prices(\"global-1d\", sids=[\"FIBBG0015M9W30\"], fields=\"Close\", data_frequency=\"d\").plot()"
   ]
  },
  {
   "cell_type": "code",
   "execution_count": 103,
   "id": "27cc8464-3b15-4f45-a579-d8c45ec9db06",
   "metadata": {},
   "outputs": [],
   "source": [
    "df_china = get_securities(exchanges=[\"XSHG\"])\n",
    "df_norway = get_securities(exchanges=[\"NOTC\"])\n",
    "df_canada = get_securities(exchanges=[\"XCNQ\", \"XTSE\"])\n",
    "df_japan = get_securities(exchanges=[\"XJPX\"])\n",
    "df_mexico = get_securities(exchanges=[\"XMEX\"])\n",
    "df_london = get_securities(exchanges=[\"XLON\"])\n",
    "df_hungary = get_securities(exchanges=[\"XBUD\"])\n",
    "df_newzealand = get_securities(exchanges=[\"XNZE\"])\n",
    "\n",
    "df_germany = get_securities(exchanges=[\"XETR\"])\n",
    "df_hongkong = get_securities(exchanges=[\"XHKG\"])\n",
    "df_kosdaq = get_securities(exchanges=[\"XKOS\"])\n",
    "df_nasdaq = get_securities(exchanges=[\"XNAS\"])\n",
    "df_nyse = get_securities(exchanges=[\"XNYS\"])\n",
    "df_usotc = get_securities(exchanges=[\"XOTC\"])\n",
    "df_france = get_securities(exchanges=[\"XPAR\"])\n",
    "df_singapore = get_securities(exchanges=[\"XSES\"])\n",
    "df_sweden = get_securities(exchanges=[\"XSTO\"])\n",
    "df_swiss = get_securities(exchanges=[\"XSWX\"])\n",
    "\n",
    "dfs = [df_china, df_norway, df_canada, df_japan, df_mexico, df_london, df_hungary, df_newzealand, df_germany, df_hongkong, df_kosdaq, df_nasdaq, df_nyse, df_usotc, df_france, df_singapore, df_sweden, df_swiss]\n",
    "df = pd.concat(dfs)"
   ]
  },
  {
   "cell_type": "code",
   "execution_count": 77,
   "id": "9e12fa64-3e85-48ae-887e-cd481c30f63a",
   "metadata": {},
   "outputs": [
    {
     "data": {
      "text/plain": [
       "array(['KRISPY KREME INC'], dtype=object)"
      ]
     },
     "execution_count": 77,
     "metadata": {},
     "output_type": "execute_result"
    }
   ],
   "source": [
    "df[\n",
    "    (True)\n",
    "    & (df.Currency == \"USD\")\n",
    "    #& (df.Etf == True)\n",
    "    #& (df.Etf == False)\n",
    "    & (df.SecType != 'IND')\n",
    "    & (df.Delisted == False)\n",
    "    & (df['Name'].str.lower().str.contains(\"spy\"))\n",
    "].Name.values[:6]"
   ]
  },
  {
   "cell_type": "code",
   "execution_count": 79,
   "id": "364e5a3e-fdcf-475b-b9cc-4764637a56cc",
   "metadata": {},
   "outputs": [
    {
     "data": {
      "text/html": [
       "<div>\n",
       "<style scoped>\n",
       "    .dataframe tbody tr th:only-of-type {\n",
       "        vertical-align: middle;\n",
       "    }\n",
       "\n",
       "    .dataframe tbody tr th {\n",
       "        vertical-align: top;\n",
       "    }\n",
       "\n",
       "    .dataframe thead th {\n",
       "        text-align: right;\n",
       "    }\n",
       "</style>\n",
       "<table border=\"1\" class=\"dataframe\">\n",
       "  <thead>\n",
       "    <tr style=\"text-align: right;\">\n",
       "      <th></th>\n",
       "      <th>Symbol</th>\n",
       "      <th>Exchange</th>\n",
       "      <th>Country</th>\n",
       "      <th>Currency</th>\n",
       "      <th>SecType</th>\n",
       "      <th>Etf</th>\n",
       "      <th>Timezone</th>\n",
       "      <th>Name</th>\n",
       "      <th>PriceMagnifier</th>\n",
       "      <th>Multiplier</th>\n",
       "      <th>Delisted</th>\n",
       "      <th>DateDelisted</th>\n",
       "      <th>LastTradeDate</th>\n",
       "      <th>RolloverDate</th>\n",
       "    </tr>\n",
       "    <tr>\n",
       "      <th>Sid</th>\n",
       "      <th></th>\n",
       "      <th></th>\n",
       "      <th></th>\n",
       "      <th></th>\n",
       "      <th></th>\n",
       "      <th></th>\n",
       "      <th></th>\n",
       "      <th></th>\n",
       "      <th></th>\n",
       "      <th></th>\n",
       "      <th></th>\n",
       "      <th></th>\n",
       "      <th></th>\n",
       "      <th></th>\n",
       "    </tr>\n",
       "  </thead>\n",
       "  <tbody>\n",
       "    <tr>\n",
       "      <th>FIBBG003MVLMY1</th>\n",
       "      <td>ZSP.U</td>\n",
       "      <td>XTSE</td>\n",
       "      <td>CA</td>\n",
       "      <td>USD</td>\n",
       "      <td>STK</td>\n",
       "      <td>True</td>\n",
       "      <td>America/Toronto</td>\n",
       "      <td>BMO S&amp;P 500 Index ETF</td>\n",
       "      <td>1</td>\n",
       "      <td>1</td>\n",
       "      <td>False</td>\n",
       "      <td>NaT</td>\n",
       "      <td>NaT</td>\n",
       "      <td>NaT</td>\n",
       "    </tr>\n",
       "    <tr>\n",
       "      <th>FIBBG004DDFCN0</th>\n",
       "      <td>HXS.U</td>\n",
       "      <td>XTSE</td>\n",
       "      <td>CA</td>\n",
       "      <td>USD</td>\n",
       "      <td>STK</td>\n",
       "      <td>True</td>\n",
       "      <td>America/Toronto</td>\n",
       "      <td>Horizons S&amp;P 500 Index ETF</td>\n",
       "      <td>1</td>\n",
       "      <td>1</td>\n",
       "      <td>False</td>\n",
       "      <td>NaT</td>\n",
       "      <td>NaT</td>\n",
       "      <td>NaT</td>\n",
       "    </tr>\n",
       "    <tr>\n",
       "      <th>FIBBG00FWQ8RG8</th>\n",
       "      <td>ULV.U</td>\n",
       "      <td>XTSE</td>\n",
       "      <td>CA</td>\n",
       "      <td>USD</td>\n",
       "      <td>STK</td>\n",
       "      <td>True</td>\n",
       "      <td>America/Toronto</td>\n",
       "      <td>Invesco S&amp;P 500 Low Volatility Index ETF (CAD ...</td>\n",
       "      <td>1</td>\n",
       "      <td>1</td>\n",
       "      <td>False</td>\n",
       "      <td>NaT</td>\n",
       "      <td>NaT</td>\n",
       "      <td>NaT</td>\n",
       "    </tr>\n",
       "    <tr>\n",
       "      <th>FIBBG00L17GCM8</th>\n",
       "      <td>EQL.U</td>\n",
       "      <td>XTSE</td>\n",
       "      <td>CA</td>\n",
       "      <td>USD</td>\n",
       "      <td>STK</td>\n",
       "      <td>True</td>\n",
       "      <td>America/Toronto</td>\n",
       "      <td>Invesco S&amp;P 500 Equal Weight Index ETF</td>\n",
       "      <td>1</td>\n",
       "      <td>1</td>\n",
       "      <td>False</td>\n",
       "      <td>NaT</td>\n",
       "      <td>NaT</td>\n",
       "      <td>NaT</td>\n",
       "    </tr>\n",
       "    <tr>\n",
       "      <th>FIBBG00QFNM965</th>\n",
       "      <td>XUS.U</td>\n",
       "      <td>XTSE</td>\n",
       "      <td>CA</td>\n",
       "      <td>USD</td>\n",
       "      <td>STK</td>\n",
       "      <td>True</td>\n",
       "      <td>America/Toronto</td>\n",
       "      <td>BlackRock Canada iShares Core S&amp;P 500 Index ETF</td>\n",
       "      <td>1</td>\n",
       "      <td>1</td>\n",
       "      <td>False</td>\n",
       "      <td>NaT</td>\n",
       "      <td>NaT</td>\n",
       "      <td>NaT</td>\n",
       "    </tr>\n",
       "    <tr>\n",
       "      <th>...</th>\n",
       "      <td>...</td>\n",
       "      <td>...</td>\n",
       "      <td>...</td>\n",
       "      <td>...</td>\n",
       "      <td>...</td>\n",
       "      <td>...</td>\n",
       "      <td>...</td>\n",
       "      <td>...</td>\n",
       "      <td>...</td>\n",
       "      <td>...</td>\n",
       "      <td>...</td>\n",
       "      <td>...</td>\n",
       "      <td>...</td>\n",
       "      <td>...</td>\n",
       "    </tr>\n",
       "    <tr>\n",
       "      <th>FIBBG00Z9DDKR6</th>\n",
       "      <td>SPESGE</td>\n",
       "      <td>XSWX</td>\n",
       "      <td>CH</td>\n",
       "      <td>USD</td>\n",
       "      <td>STK</td>\n",
       "      <td>True</td>\n",
       "      <td>Europe/Zurich</td>\n",
       "      <td>UBS (Irl) ETF plc S&amp;P 500 ESG ELITE UCITS ETF ...</td>\n",
       "      <td>1</td>\n",
       "      <td>1</td>\n",
       "      <td>False</td>\n",
       "      <td>NaT</td>\n",
       "      <td>NaT</td>\n",
       "      <td>NaT</td>\n",
       "    </tr>\n",
       "    <tr>\n",
       "      <th>FIBBG01219DY68</th>\n",
       "      <td>UPAB</td>\n",
       "      <td>XSWX</td>\n",
       "      <td>CH</td>\n",
       "      <td>USD</td>\n",
       "      <td>STK</td>\n",
       "      <td>True</td>\n",
       "      <td>Europe/Zurich</td>\n",
       "      <td>BlackRock iShares S&amp;P 500 Paris-Aligned Climat...</td>\n",
       "      <td>1</td>\n",
       "      <td>1</td>\n",
       "      <td>False</td>\n",
       "      <td>NaT</td>\n",
       "      <td>NaT</td>\n",
       "      <td>NaT</td>\n",
       "    </tr>\n",
       "    <tr>\n",
       "      <th>FIBBG0178MWCT3</th>\n",
       "      <td>C500</td>\n",
       "      <td>XSWX</td>\n",
       "      <td>CH</td>\n",
       "      <td>USD</td>\n",
       "      <td>STK</td>\n",
       "      <td>True</td>\n",
       "      <td>Europe/Zurich</td>\n",
       "      <td>Invesco S&amp;P China A Midcap 500 Swap UCITS ETF USD</td>\n",
       "      <td>1</td>\n",
       "      <td>1</td>\n",
       "      <td>False</td>\n",
       "      <td>NaT</td>\n",
       "      <td>NaT</td>\n",
       "      <td>NaT</td>\n",
       "    </tr>\n",
       "    <tr>\n",
       "      <th>FIBBG01BYYK349</th>\n",
       "      <td>ESPX</td>\n",
       "      <td>XSWX</td>\n",
       "      <td>CH</td>\n",
       "      <td>USD</td>\n",
       "      <td>STK</td>\n",
       "      <td>True</td>\n",
       "      <td>Europe/Zurich</td>\n",
       "      <td>iShares S&amp;P 500 ESG UCITS ETF Accumulation</td>\n",
       "      <td>1</td>\n",
       "      <td>1</td>\n",
       "      <td>False</td>\n",
       "      <td>NaT</td>\n",
       "      <td>NaT</td>\n",
       "      <td>NaT</td>\n",
       "    </tr>\n",
       "    <tr>\n",
       "      <th>FIBBG01BYYK3Y6</th>\n",
       "      <td>EWSP</td>\n",
       "      <td>XSWX</td>\n",
       "      <td>CH</td>\n",
       "      <td>USD</td>\n",
       "      <td>STK</td>\n",
       "      <td>True</td>\n",
       "      <td>Europe/Zurich</td>\n",
       "      <td>iShares S&amp;P 500 Equal Weight UCITS ETF Accumul...</td>\n",
       "      <td>1</td>\n",
       "      <td>1</td>\n",
       "      <td>False</td>\n",
       "      <td>NaT</td>\n",
       "      <td>NaT</td>\n",
       "      <td>NaT</td>\n",
       "    </tr>\n",
       "  </tbody>\n",
       "</table>\n",
       "<p>120 rows × 14 columns</p>\n",
       "</div>"
      ],
      "text/plain": [
       "                Symbol Exchange Country Currency SecType   Etf  \\\n",
       "Sid                                                              \n",
       "FIBBG003MVLMY1   ZSP.U     XTSE      CA      USD     STK  True   \n",
       "FIBBG004DDFCN0   HXS.U     XTSE      CA      USD     STK  True   \n",
       "FIBBG00FWQ8RG8   ULV.U     XTSE      CA      USD     STK  True   \n",
       "FIBBG00L17GCM8   EQL.U     XTSE      CA      USD     STK  True   \n",
       "FIBBG00QFNM965   XUS.U     XTSE      CA      USD     STK  True   \n",
       "...                ...      ...     ...      ...     ...   ...   \n",
       "FIBBG00Z9DDKR6  SPESGE     XSWX      CH      USD     STK  True   \n",
       "FIBBG01219DY68    UPAB     XSWX      CH      USD     STK  True   \n",
       "FIBBG0178MWCT3    C500     XSWX      CH      USD     STK  True   \n",
       "FIBBG01BYYK349    ESPX     XSWX      CH      USD     STK  True   \n",
       "FIBBG01BYYK3Y6    EWSP     XSWX      CH      USD     STK  True   \n",
       "\n",
       "                       Timezone  \\\n",
       "Sid                               \n",
       "FIBBG003MVLMY1  America/Toronto   \n",
       "FIBBG004DDFCN0  America/Toronto   \n",
       "FIBBG00FWQ8RG8  America/Toronto   \n",
       "FIBBG00L17GCM8  America/Toronto   \n",
       "FIBBG00QFNM965  America/Toronto   \n",
       "...                         ...   \n",
       "FIBBG00Z9DDKR6    Europe/Zurich   \n",
       "FIBBG01219DY68    Europe/Zurich   \n",
       "FIBBG0178MWCT3    Europe/Zurich   \n",
       "FIBBG01BYYK349    Europe/Zurich   \n",
       "FIBBG01BYYK3Y6    Europe/Zurich   \n",
       "\n",
       "                                                             Name  \\\n",
       "Sid                                                                 \n",
       "FIBBG003MVLMY1                              BMO S&P 500 Index ETF   \n",
       "FIBBG004DDFCN0                         Horizons S&P 500 Index ETF   \n",
       "FIBBG00FWQ8RG8  Invesco S&P 500 Low Volatility Index ETF (CAD ...   \n",
       "FIBBG00L17GCM8             Invesco S&P 500 Equal Weight Index ETF   \n",
       "FIBBG00QFNM965    BlackRock Canada iShares Core S&P 500 Index ETF   \n",
       "...                                                           ...   \n",
       "FIBBG00Z9DDKR6  UBS (Irl) ETF plc S&P 500 ESG ELITE UCITS ETF ...   \n",
       "FIBBG01219DY68  BlackRock iShares S&P 500 Paris-Aligned Climat...   \n",
       "FIBBG0178MWCT3  Invesco S&P China A Midcap 500 Swap UCITS ETF USD   \n",
       "FIBBG01BYYK349         iShares S&P 500 ESG UCITS ETF Accumulation   \n",
       "FIBBG01BYYK3Y6  iShares S&P 500 Equal Weight UCITS ETF Accumul...   \n",
       "\n",
       "                PriceMagnifier  Multiplier  Delisted DateDelisted  \\\n",
       "Sid                                                                 \n",
       "FIBBG003MVLMY1               1           1     False          NaT   \n",
       "FIBBG004DDFCN0               1           1     False          NaT   \n",
       "FIBBG00FWQ8RG8               1           1     False          NaT   \n",
       "FIBBG00L17GCM8               1           1     False          NaT   \n",
       "FIBBG00QFNM965               1           1     False          NaT   \n",
       "...                        ...         ...       ...          ...   \n",
       "FIBBG00Z9DDKR6               1           1     False          NaT   \n",
       "FIBBG01219DY68               1           1     False          NaT   \n",
       "FIBBG0178MWCT3               1           1     False          NaT   \n",
       "FIBBG01BYYK349               1           1     False          NaT   \n",
       "FIBBG01BYYK3Y6               1           1     False          NaT   \n",
       "\n",
       "               LastTradeDate RolloverDate  \n",
       "Sid                                        \n",
       "FIBBG003MVLMY1           NaT          NaT  \n",
       "FIBBG004DDFCN0           NaT          NaT  \n",
       "FIBBG00FWQ8RG8           NaT          NaT  \n",
       "FIBBG00L17GCM8           NaT          NaT  \n",
       "FIBBG00QFNM965           NaT          NaT  \n",
       "...                      ...          ...  \n",
       "FIBBG00Z9DDKR6           NaT          NaT  \n",
       "FIBBG01219DY68           NaT          NaT  \n",
       "FIBBG0178MWCT3           NaT          NaT  \n",
       "FIBBG01BYYK349           NaT          NaT  \n",
       "FIBBG01BYYK3Y6           NaT          NaT  \n",
       "\n",
       "[120 rows x 14 columns]"
      ]
     },
     "execution_count": 79,
     "metadata": {},
     "output_type": "execute_result"
    }
   ],
   "source": [
    "df[\n",
    "    (True)\n",
    "    & (df.Currency == \"USD\")\n",
    "    #& (df.Etf == True)\n",
    "    #& (df.Etf == False)\n",
    "    & (df.SecType != 'IND')\n",
    "    & (df.Delisted == False)\n",
    "    #& (df['Name'].str.lower().str.contains(\"fang\"))\n",
    "    #& (df['Name'].str.lower().str.contains(\"index\"))\n",
    "    #& (df['Name'].str.lower().str.contains(\"ishare\"))\n",
    "    & (df['Name'].str.lower().str.contains(\"500\"))\n",
    "]"
   ]
  },
  {
   "cell_type": "code",
   "execution_count": 105,
   "id": "5c3bd6d1-e78b-4e2b-8820-db008886d4ca",
   "metadata": {},
   "outputs": [
    {
     "data": {
      "text/html": [
       "<div>\n",
       "<style scoped>\n",
       "    .dataframe tbody tr th:only-of-type {\n",
       "        vertical-align: middle;\n",
       "    }\n",
       "\n",
       "    .dataframe tbody tr th {\n",
       "        vertical-align: top;\n",
       "    }\n",
       "\n",
       "    .dataframe thead th {\n",
       "        text-align: right;\n",
       "    }\n",
       "</style>\n",
       "<table border=\"1\" class=\"dataframe\">\n",
       "  <thead>\n",
       "    <tr style=\"text-align: right;\">\n",
       "      <th></th>\n",
       "      <th>Symbol</th>\n",
       "      <th>Exchange</th>\n",
       "      <th>Country</th>\n",
       "      <th>Currency</th>\n",
       "      <th>SecType</th>\n",
       "      <th>Etf</th>\n",
       "      <th>Timezone</th>\n",
       "      <th>Name</th>\n",
       "      <th>PriceMagnifier</th>\n",
       "      <th>Multiplier</th>\n",
       "      <th>Delisted</th>\n",
       "      <th>DateDelisted</th>\n",
       "      <th>LastTradeDate</th>\n",
       "      <th>RolloverDate</th>\n",
       "    </tr>\n",
       "    <tr>\n",
       "      <th>Sid</th>\n",
       "      <th></th>\n",
       "      <th></th>\n",
       "      <th></th>\n",
       "      <th></th>\n",
       "      <th></th>\n",
       "      <th></th>\n",
       "      <th></th>\n",
       "      <th></th>\n",
       "      <th></th>\n",
       "      <th></th>\n",
       "      <th></th>\n",
       "      <th></th>\n",
       "      <th></th>\n",
       "      <th></th>\n",
       "    </tr>\n",
       "  </thead>\n",
       "  <tbody>\n",
       "    <tr>\n",
       "      <th>FIBBG006H1RJZ6</th>\n",
       "      <td>CASH</td>\n",
       "      <td>XLON</td>\n",
       "      <td>GB</td>\n",
       "      <td>USD</td>\n",
       "      <td>STK</td>\n",
       "      <td>True</td>\n",
       "      <td>Europe/London</td>\n",
       "      <td>L&amp;G ETFS-E Fund MSCI China A GO UCITS ETF</td>\n",
       "      <td>1</td>\n",
       "      <td>1</td>\n",
       "      <td>False</td>\n",
       "      <td>NaT</td>\n",
       "      <td>NaT</td>\n",
       "      <td>NaT</td>\n",
       "    </tr>\n",
       "    <tr>\n",
       "      <th>FIBBG000QW7RC0</th>\n",
       "      <td>XCAD</td>\n",
       "      <td>XLON</td>\n",
       "      <td>GB</td>\n",
       "      <td>USD</td>\n",
       "      <td>STK</td>\n",
       "      <td>True</td>\n",
       "      <td>Europe/London</td>\n",
       "      <td>Xtrackers MSCI Canada ESG Screened UCITS ETF</td>\n",
       "      <td>1</td>\n",
       "      <td>1</td>\n",
       "      <td>False</td>\n",
       "      <td>NaT</td>\n",
       "      <td>NaT</td>\n",
       "      <td>NaT</td>\n",
       "    </tr>\n",
       "    <tr>\n",
       "      <th>FIBBG009S0XQY8</th>\n",
       "      <td>XDNU</td>\n",
       "      <td>XLON</td>\n",
       "      <td>GB</td>\n",
       "      <td>USD</td>\n",
       "      <td>STK</td>\n",
       "      <td>True</td>\n",
       "      <td>Europe/London</td>\n",
       "      <td>Xtrackers JPX-Nikkei 400 UCITS ETF 4C Hedged USD</td>\n",
       "      <td>1</td>\n",
       "      <td>1</td>\n",
       "      <td>False</td>\n",
       "      <td>NaT</td>\n",
       "      <td>NaT</td>\n",
       "      <td>NaT</td>\n",
       "    </tr>\n",
       "    <tr>\n",
       "      <th>FIBBG0015XN496</th>\n",
       "      <td>CMXC</td>\n",
       "      <td>XLON</td>\n",
       "      <td>GB</td>\n",
       "      <td>USD</td>\n",
       "      <td>STK</td>\n",
       "      <td>True</td>\n",
       "      <td>Europe/London</td>\n",
       "      <td>BlackRock iShares MSCI Mexico Capped UCITS ETF...</td>\n",
       "      <td>1</td>\n",
       "      <td>1</td>\n",
       "      <td>False</td>\n",
       "      <td>NaT</td>\n",
       "      <td>NaT</td>\n",
       "      <td>NaT</td>\n",
       "    </tr>\n",
       "    <tr>\n",
       "      <th>FIBBG001DQBCC3</th>\n",
       "      <td>IPOL</td>\n",
       "      <td>XLON</td>\n",
       "      <td>GB</td>\n",
       "      <td>USD</td>\n",
       "      <td>STK</td>\n",
       "      <td>True</td>\n",
       "      <td>Europe/London</td>\n",
       "      <td>BlackRock iShares MSCI Poland UCITS ETF USD (Acc)</td>\n",
       "      <td>1</td>\n",
       "      <td>1</td>\n",
       "      <td>False</td>\n",
       "      <td>NaT</td>\n",
       "      <td>NaT</td>\n",
       "      <td>NaT</td>\n",
       "    </tr>\n",
       "    <tr>\n",
       "      <th>FIBBG000DPT7D8</th>\n",
       "      <td>IDKO</td>\n",
       "      <td>XLON</td>\n",
       "      <td>GB</td>\n",
       "      <td>USD</td>\n",
       "      <td>STK</td>\n",
       "      <td>True</td>\n",
       "      <td>Europe/London</td>\n",
       "      <td>BlackRock iShares MSCI Korea UCITS ETF USD (Dist)</td>\n",
       "      <td>1</td>\n",
       "      <td>1</td>\n",
       "      <td>False</td>\n",
       "      <td>NaT</td>\n",
       "      <td>NaT</td>\n",
       "      <td>NaT</td>\n",
       "    </tr>\n",
       "    <tr>\n",
       "      <th>FIBBG0017DVJR6</th>\n",
       "      <td>XCS4</td>\n",
       "      <td>XLON</td>\n",
       "      <td>GB</td>\n",
       "      <td>USD</td>\n",
       "      <td>STK</td>\n",
       "      <td>True</td>\n",
       "      <td>Europe/London</td>\n",
       "      <td>Xtrackers MSCI Thailand UCITS ETF 1C</td>\n",
       "      <td>1</td>\n",
       "      <td>1</td>\n",
       "      <td>False</td>\n",
       "      <td>NaT</td>\n",
       "      <td>NaT</td>\n",
       "      <td>NaT</td>\n",
       "    </tr>\n",
       "    <tr>\n",
       "      <th>FIBBG0015M9W30</th>\n",
       "      <td>ENZL</td>\n",
       "      <td>XNAS</td>\n",
       "      <td>US</td>\n",
       "      <td>USD</td>\n",
       "      <td>STK</td>\n",
       "      <td>True</td>\n",
       "      <td>America/New_York</td>\n",
       "      <td>ISHARES MSCI NEW ZEALAND ETF</td>\n",
       "      <td>1</td>\n",
       "      <td>1</td>\n",
       "      <td>False</td>\n",
       "      <td>NaT</td>\n",
       "      <td>NaT</td>\n",
       "      <td>NaT</td>\n",
       "    </tr>\n",
       "  </tbody>\n",
       "</table>\n",
       "</div>"
      ],
      "text/plain": [
       "               Symbol Exchange Country Currency SecType   Etf  \\\n",
       "Sid                                                             \n",
       "FIBBG006H1RJZ6   CASH     XLON      GB      USD     STK  True   \n",
       "FIBBG000QW7RC0   XCAD     XLON      GB      USD     STK  True   \n",
       "FIBBG009S0XQY8   XDNU     XLON      GB      USD     STK  True   \n",
       "FIBBG0015XN496   CMXC     XLON      GB      USD     STK  True   \n",
       "FIBBG001DQBCC3   IPOL     XLON      GB      USD     STK  True   \n",
       "FIBBG000DPT7D8   IDKO     XLON      GB      USD     STK  True   \n",
       "FIBBG0017DVJR6   XCS4     XLON      GB      USD     STK  True   \n",
       "FIBBG0015M9W30   ENZL     XNAS      US      USD     STK  True   \n",
       "\n",
       "                        Timezone  \\\n",
       "Sid                                \n",
       "FIBBG006H1RJZ6     Europe/London   \n",
       "FIBBG000QW7RC0     Europe/London   \n",
       "FIBBG009S0XQY8     Europe/London   \n",
       "FIBBG0015XN496     Europe/London   \n",
       "FIBBG001DQBCC3     Europe/London   \n",
       "FIBBG000DPT7D8     Europe/London   \n",
       "FIBBG0017DVJR6     Europe/London   \n",
       "FIBBG0015M9W30  America/New_York   \n",
       "\n",
       "                                                             Name  \\\n",
       "Sid                                                                 \n",
       "FIBBG006H1RJZ6          L&G ETFS-E Fund MSCI China A GO UCITS ETF   \n",
       "FIBBG000QW7RC0       Xtrackers MSCI Canada ESG Screened UCITS ETF   \n",
       "FIBBG009S0XQY8   Xtrackers JPX-Nikkei 400 UCITS ETF 4C Hedged USD   \n",
       "FIBBG0015XN496  BlackRock iShares MSCI Mexico Capped UCITS ETF...   \n",
       "FIBBG001DQBCC3  BlackRock iShares MSCI Poland UCITS ETF USD (Acc)   \n",
       "FIBBG000DPT7D8  BlackRock iShares MSCI Korea UCITS ETF USD (Dist)   \n",
       "FIBBG0017DVJR6               Xtrackers MSCI Thailand UCITS ETF 1C   \n",
       "FIBBG0015M9W30                       ISHARES MSCI NEW ZEALAND ETF   \n",
       "\n",
       "                PriceMagnifier  Multiplier  Delisted DateDelisted  \\\n",
       "Sid                                                                 \n",
       "FIBBG006H1RJZ6               1           1     False          NaT   \n",
       "FIBBG000QW7RC0               1           1     False          NaT   \n",
       "FIBBG009S0XQY8               1           1     False          NaT   \n",
       "FIBBG0015XN496               1           1     False          NaT   \n",
       "FIBBG001DQBCC3               1           1     False          NaT   \n",
       "FIBBG000DPT7D8               1           1     False          NaT   \n",
       "FIBBG0017DVJR6               1           1     False          NaT   \n",
       "FIBBG0015M9W30               1           1     False          NaT   \n",
       "\n",
       "               LastTradeDate RolloverDate  \n",
       "Sid                                        \n",
       "FIBBG006H1RJZ6           NaT          NaT  \n",
       "FIBBG000QW7RC0           NaT          NaT  \n",
       "FIBBG009S0XQY8           NaT          NaT  \n",
       "FIBBG0015XN496           NaT          NaT  \n",
       "FIBBG001DQBCC3           NaT          NaT  \n",
       "FIBBG000DPT7D8           NaT          NaT  \n",
       "FIBBG0017DVJR6           NaT          NaT  \n",
       "FIBBG0015M9W30           NaT          NaT  "
      ]
     },
     "execution_count": 105,
     "metadata": {},
     "output_type": "execute_result"
    }
   ],
   "source": [
    "df.loc[sids_index].sort_values('Currency')"
   ]
  },
  {
   "cell_type": "code",
   "execution_count": 63,
   "id": "0004cab5-8f6b-4a23-92ef-1c31d281bbd6",
   "metadata": {},
   "outputs": [
    {
     "data": {
      "text/plain": [
       "array(['USD'], dtype=object)"
      ]
     },
     "execution_count": 63,
     "metadata": {},
     "output_type": "execute_result"
    }
   ],
   "source": [
    "df.loc[sids_index]['Currency'].unique()"
   ]
  },
  {
   "cell_type": "code",
   "execution_count": 125,
   "id": "4ebc353e-1ca7-4ff7-87da-97cd1a2841de",
   "metadata": {},
   "outputs": [
    {
     "data": {
      "text/plain": [
       "{'ibg1': {'status': 'running'}}"
      ]
     },
     "execution_count": 125,
     "metadata": {},
     "output_type": "execute_result"
    }
   ],
   "source": [
    "from quantrocket.ibg import start_gateways\n",
    "start_gateways(wait=True)"
   ]
  },
  {
   "cell_type": "code",
   "execution_count": 134,
   "id": "6c604486-5a87-46b3-b5f3-75e19a337a4f",
   "metadata": {},
   "outputs": [],
   "source": [
    "price_fx = get_prices(\"fx-1d\", sids=sids_currency, fields=\"Close\", data_frequency=\"d\")"
   ]
  },
  {
   "cell_type": "code",
   "execution_count": 135,
   "id": "1c50afed-e3d9-4756-a475-de4dc273de14",
   "metadata": {},
   "outputs": [
    {
     "data": {
      "text/html": [
       "<div>\n",
       "<style scoped>\n",
       "    .dataframe tbody tr th:only-of-type {\n",
       "        vertical-align: middle;\n",
       "    }\n",
       "\n",
       "    .dataframe tbody tr th {\n",
       "        vertical-align: top;\n",
       "    }\n",
       "\n",
       "    .dataframe thead th {\n",
       "        text-align: right;\n",
       "    }\n",
       "</style>\n",
       "<table border=\"1\" class=\"dataframe\">\n",
       "  <thead>\n",
       "    <tr style=\"text-align: right;\">\n",
       "      <th></th>\n",
       "      <th>Sid</th>\n",
       "      <th>FXAUDUSD</th>\n",
       "      <th>FXEURUSD</th>\n",
       "      <th>FXGBPUSD</th>\n",
       "      <th>FXNZDUSD</th>\n",
       "      <th>FXUSDCAD</th>\n",
       "      <th>FXUSDCHF</th>\n",
       "      <th>FXUSDCNH</th>\n",
       "      <th>FXUSDCZK</th>\n",
       "      <th>FXUSDHKD</th>\n",
       "      <th>FXUSDHUF</th>\n",
       "      <th>FXUSDJPY</th>\n",
       "      <th>FXUSDMXN</th>\n",
       "      <th>FXUSDNOK</th>\n",
       "      <th>FXUSDSEK</th>\n",
       "      <th>FXUSDSGD</th>\n",
       "      <th>FXUSDTRY</th>\n",
       "      <th>FXUSDZAR</th>\n",
       "    </tr>\n",
       "    <tr>\n",
       "      <th>Field</th>\n",
       "      <th>Date</th>\n",
       "      <th></th>\n",
       "      <th></th>\n",
       "      <th></th>\n",
       "      <th></th>\n",
       "      <th></th>\n",
       "      <th></th>\n",
       "      <th></th>\n",
       "      <th></th>\n",
       "      <th></th>\n",
       "      <th></th>\n",
       "      <th></th>\n",
       "      <th></th>\n",
       "      <th></th>\n",
       "      <th></th>\n",
       "      <th></th>\n",
       "      <th></th>\n",
       "      <th></th>\n",
       "    </tr>\n",
       "  </thead>\n",
       "  <tbody>\n",
       "    <tr>\n",
       "      <th rowspan=\"11\" valign=\"top\">Close</th>\n",
       "      <th>2005-03-09</th>\n",
       "      <td>0.796900</td>\n",
       "      <td>1.343300</td>\n",
       "      <td>1.927550</td>\n",
       "      <td>NaN</td>\n",
       "      <td>1.203000</td>\n",
       "      <td>1.154400</td>\n",
       "      <td>NaN</td>\n",
       "      <td>NaN</td>\n",
       "      <td>7.799550</td>\n",
       "      <td>NaN</td>\n",
       "      <td>104.1100</td>\n",
       "      <td>NaN</td>\n",
       "      <td>NaN</td>\n",
       "      <td>NaN</td>\n",
       "      <td>NaN</td>\n",
       "      <td>NaN</td>\n",
       "      <td>NaN</td>\n",
       "    </tr>\n",
       "    <tr>\n",
       "      <th>2005-03-10</th>\n",
       "      <td>0.790200</td>\n",
       "      <td>1.342500</td>\n",
       "      <td>1.923750</td>\n",
       "      <td>NaN</td>\n",
       "      <td>1.204850</td>\n",
       "      <td>1.153400</td>\n",
       "      <td>NaN</td>\n",
       "      <td>NaN</td>\n",
       "      <td>7.799650</td>\n",
       "      <td>NaN</td>\n",
       "      <td>104.1300</td>\n",
       "      <td>NaN</td>\n",
       "      <td>NaN</td>\n",
       "      <td>NaN</td>\n",
       "      <td>NaN</td>\n",
       "      <td>NaN</td>\n",
       "      <td>NaN</td>\n",
       "    </tr>\n",
       "    <tr>\n",
       "      <th>2005-03-11</th>\n",
       "      <td>0.793000</td>\n",
       "      <td>1.345800</td>\n",
       "      <td>1.925900</td>\n",
       "      <td>NaN</td>\n",
       "      <td>1.205750</td>\n",
       "      <td>1.150200</td>\n",
       "      <td>NaN</td>\n",
       "      <td>NaN</td>\n",
       "      <td>7.799050</td>\n",
       "      <td>NaN</td>\n",
       "      <td>103.9900</td>\n",
       "      <td>NaN</td>\n",
       "      <td>NaN</td>\n",
       "      <td>NaN</td>\n",
       "      <td>NaN</td>\n",
       "      <td>NaN</td>\n",
       "      <td>NaN</td>\n",
       "    </tr>\n",
       "    <tr>\n",
       "      <th>2005-03-13</th>\n",
       "      <td>0.792800</td>\n",
       "      <td>1.345300</td>\n",
       "      <td>1.923650</td>\n",
       "      <td>NaN</td>\n",
       "      <td>1.205900</td>\n",
       "      <td>1.151100</td>\n",
       "      <td>NaN</td>\n",
       "      <td>NaN</td>\n",
       "      <td>7.799450</td>\n",
       "      <td>NaN</td>\n",
       "      <td>104.4200</td>\n",
       "      <td>NaN</td>\n",
       "      <td>NaN</td>\n",
       "      <td>NaN</td>\n",
       "      <td>NaN</td>\n",
       "      <td>NaN</td>\n",
       "      <td>NaN</td>\n",
       "    </tr>\n",
       "    <tr>\n",
       "      <th>2005-03-14</th>\n",
       "      <td>0.788900</td>\n",
       "      <td>1.336300</td>\n",
       "      <td>1.915650</td>\n",
       "      <td>NaN</td>\n",
       "      <td>1.206800</td>\n",
       "      <td>1.159700</td>\n",
       "      <td>NaN</td>\n",
       "      <td>NaN</td>\n",
       "      <td>7.799850</td>\n",
       "      <td>NaN</td>\n",
       "      <td>104.7500</td>\n",
       "      <td>NaN</td>\n",
       "      <td>NaN</td>\n",
       "      <td>NaN</td>\n",
       "      <td>NaN</td>\n",
       "      <td>NaN</td>\n",
       "      <td>NaN</td>\n",
       "    </tr>\n",
       "    <tr>\n",
       "      <th>...</th>\n",
       "      <td>...</td>\n",
       "      <td>...</td>\n",
       "      <td>...</td>\n",
       "      <td>...</td>\n",
       "      <td>...</td>\n",
       "      <td>...</td>\n",
       "      <td>...</td>\n",
       "      <td>...</td>\n",
       "      <td>...</td>\n",
       "      <td>...</td>\n",
       "      <td>...</td>\n",
       "      <td>...</td>\n",
       "      <td>...</td>\n",
       "      <td>...</td>\n",
       "      <td>...</td>\n",
       "      <td>...</td>\n",
       "      <td>...</td>\n",
       "    </tr>\n",
       "    <tr>\n",
       "      <th>2023-01-09</th>\n",
       "      <td>0.691100</td>\n",
       "      <td>1.072960</td>\n",
       "      <td>1.218110</td>\n",
       "      <td>0.638845</td>\n",
       "      <td>1.338885</td>\n",
       "      <td>0.921525</td>\n",
       "      <td>6.781890</td>\n",
       "      <td>22.36955</td>\n",
       "      <td>7.803920</td>\n",
       "      <td>369.5095</td>\n",
       "      <td>131.8845</td>\n",
       "      <td>19.157925</td>\n",
       "      <td>9.949050</td>\n",
       "      <td>10.404200</td>\n",
       "      <td>1.330520</td>\n",
       "      <td>18.788355</td>\n",
       "      <td>16.923395</td>\n",
       "    </tr>\n",
       "    <tr>\n",
       "      <th>2023-01-10</th>\n",
       "      <td>0.689255</td>\n",
       "      <td>1.073325</td>\n",
       "      <td>1.215145</td>\n",
       "      <td>0.636165</td>\n",
       "      <td>1.342550</td>\n",
       "      <td>0.922855</td>\n",
       "      <td>6.785120</td>\n",
       "      <td>22.34000</td>\n",
       "      <td>7.808745</td>\n",
       "      <td>371.3170</td>\n",
       "      <td>132.2595</td>\n",
       "      <td>19.072250</td>\n",
       "      <td>9.990355</td>\n",
       "      <td>10.410745</td>\n",
       "      <td>1.331780</td>\n",
       "      <td>18.774250</td>\n",
       "      <td>17.011300</td>\n",
       "    </tr>\n",
       "    <tr>\n",
       "      <th>2023-01-11</th>\n",
       "      <td>0.690445</td>\n",
       "      <td>1.075820</td>\n",
       "      <td>1.214580</td>\n",
       "      <td>0.634775</td>\n",
       "      <td>1.342420</td>\n",
       "      <td>0.931285</td>\n",
       "      <td>6.769465</td>\n",
       "      <td>22.34880</td>\n",
       "      <td>7.813200</td>\n",
       "      <td>370.2700</td>\n",
       "      <td>132.4100</td>\n",
       "      <td>18.927770</td>\n",
       "      <td>10.002645</td>\n",
       "      <td>10.462545</td>\n",
       "      <td>1.331270</td>\n",
       "      <td>18.793015</td>\n",
       "      <td>16.916245</td>\n",
       "    </tr>\n",
       "    <tr>\n",
       "      <th>2023-01-12</th>\n",
       "      <td>0.696720</td>\n",
       "      <td>1.085415</td>\n",
       "      <td>1.220905</td>\n",
       "      <td>0.640035</td>\n",
       "      <td>1.336885</td>\n",
       "      <td>0.927355</td>\n",
       "      <td>6.726540</td>\n",
       "      <td>22.15825</td>\n",
       "      <td>7.808730</td>\n",
       "      <td>366.3585</td>\n",
       "      <td>129.2890</td>\n",
       "      <td>18.838005</td>\n",
       "      <td>9.890745</td>\n",
       "      <td>10.399805</td>\n",
       "      <td>1.325455</td>\n",
       "      <td>18.767100</td>\n",
       "      <td>16.753895</td>\n",
       "    </tr>\n",
       "    <tr>\n",
       "      <th>2023-01-13</th>\n",
       "      <td>0.695840</td>\n",
       "      <td>1.082900</td>\n",
       "      <td>1.222800</td>\n",
       "      <td>0.637365</td>\n",
       "      <td>1.339740</td>\n",
       "      <td>0.927645</td>\n",
       "      <td>6.714770</td>\n",
       "      <td>22.17075</td>\n",
       "      <td>7.808950</td>\n",
       "      <td>367.6205</td>\n",
       "      <td>127.8625</td>\n",
       "      <td>18.770200</td>\n",
       "      <td>9.904150</td>\n",
       "      <td>10.397395</td>\n",
       "      <td>1.318795</td>\n",
       "      <td>18.813180</td>\n",
       "      <td>16.850005</td>\n",
       "    </tr>\n",
       "  </tbody>\n",
       "</table>\n",
       "<p>4681 rows × 17 columns</p>\n",
       "</div>"
      ],
      "text/plain": [
       "Sid               FXAUDUSD  FXEURUSD  FXGBPUSD  FXNZDUSD  FXUSDCAD  FXUSDCHF  \\\n",
       "Field Date                                                                     \n",
       "Close 2005-03-09  0.796900  1.343300  1.927550       NaN  1.203000  1.154400   \n",
       "      2005-03-10  0.790200  1.342500  1.923750       NaN  1.204850  1.153400   \n",
       "      2005-03-11  0.793000  1.345800  1.925900       NaN  1.205750  1.150200   \n",
       "      2005-03-13  0.792800  1.345300  1.923650       NaN  1.205900  1.151100   \n",
       "      2005-03-14  0.788900  1.336300  1.915650       NaN  1.206800  1.159700   \n",
       "...                    ...       ...       ...       ...       ...       ...   \n",
       "      2023-01-09  0.691100  1.072960  1.218110  0.638845  1.338885  0.921525   \n",
       "      2023-01-10  0.689255  1.073325  1.215145  0.636165  1.342550  0.922855   \n",
       "      2023-01-11  0.690445  1.075820  1.214580  0.634775  1.342420  0.931285   \n",
       "      2023-01-12  0.696720  1.085415  1.220905  0.640035  1.336885  0.927355   \n",
       "      2023-01-13  0.695840  1.082900  1.222800  0.637365  1.339740  0.927645   \n",
       "\n",
       "Sid               FXUSDCNH  FXUSDCZK  FXUSDHKD  FXUSDHUF  FXUSDJPY   FXUSDMXN  \\\n",
       "Field Date                                                                      \n",
       "Close 2005-03-09       NaN       NaN  7.799550       NaN  104.1100        NaN   \n",
       "      2005-03-10       NaN       NaN  7.799650       NaN  104.1300        NaN   \n",
       "      2005-03-11       NaN       NaN  7.799050       NaN  103.9900        NaN   \n",
       "      2005-03-13       NaN       NaN  7.799450       NaN  104.4200        NaN   \n",
       "      2005-03-14       NaN       NaN  7.799850       NaN  104.7500        NaN   \n",
       "...                    ...       ...       ...       ...       ...        ...   \n",
       "      2023-01-09  6.781890  22.36955  7.803920  369.5095  131.8845  19.157925   \n",
       "      2023-01-10  6.785120  22.34000  7.808745  371.3170  132.2595  19.072250   \n",
       "      2023-01-11  6.769465  22.34880  7.813200  370.2700  132.4100  18.927770   \n",
       "      2023-01-12  6.726540  22.15825  7.808730  366.3585  129.2890  18.838005   \n",
       "      2023-01-13  6.714770  22.17075  7.808950  367.6205  127.8625  18.770200   \n",
       "\n",
       "Sid                FXUSDNOK   FXUSDSEK  FXUSDSGD   FXUSDTRY   FXUSDZAR  \n",
       "Field Date                                                              \n",
       "Close 2005-03-09        NaN        NaN       NaN        NaN        NaN  \n",
       "      2005-03-10        NaN        NaN       NaN        NaN        NaN  \n",
       "      2005-03-11        NaN        NaN       NaN        NaN        NaN  \n",
       "      2005-03-13        NaN        NaN       NaN        NaN        NaN  \n",
       "      2005-03-14        NaN        NaN       NaN        NaN        NaN  \n",
       "...                     ...        ...       ...        ...        ...  \n",
       "      2023-01-09   9.949050  10.404200  1.330520  18.788355  16.923395  \n",
       "      2023-01-10   9.990355  10.410745  1.331780  18.774250  17.011300  \n",
       "      2023-01-11  10.002645  10.462545  1.331270  18.793015  16.916245  \n",
       "      2023-01-12   9.890745  10.399805  1.325455  18.767100  16.753895  \n",
       "      2023-01-13   9.904150  10.397395  1.318795  18.813180  16.850005  \n",
       "\n",
       "[4681 rows x 17 columns]"
      ]
     },
     "execution_count": 135,
     "metadata": {},
     "output_type": "execute_result"
    }
   ],
   "source": [
    "price_fx"
   ]
  },
  {
   "cell_type": "code",
   "execution_count": 110,
   "id": "442eb101-90ef-41c4-b0b7-4785915b4b76",
   "metadata": {},
   "outputs": [
    {
     "data": {
      "text/plain": [
       "Index(['FXAUDUSD', 'FXEURUSD', 'FXGBPUSD', 'FXNZDUSD', 'FXUSDCAD', 'FXUSDCHF',\n",
       "       'FXUSDCNH', 'FXUSDCZK', 'FXUSDHKD', 'FXUSDHUF', 'FXUSDJPY', 'FXUSDMXN',\n",
       "       'FXUSDNOK', 'FXUSDSEK', 'FXUSDSGD', 'FXUSDTRY', 'FXUSDZAR'],\n",
       "      dtype='object', name='Sid')"
      ]
     },
     "execution_count": 110,
     "metadata": {},
     "output_type": "execute_result"
    }
   ],
   "source": [
    "price_fx.columns"
   ]
  },
  {
   "cell_type": "code",
   "execution_count": null,
   "id": "95dc88c3-5ec6-40d7-a402-c54c10476cf0",
   "metadata": {},
   "outputs": [],
   "source": []
  }
 ],
 "metadata": {
  "kernelspec": {
   "display_name": "Python 3.9",
   "language": "python",
   "name": "python3"
  },
  "language_info": {
   "codemirror_mode": {
    "name": "ipython",
    "version": 3
   },
   "file_extension": ".py",
   "mimetype": "text/x-python",
   "name": "python",
   "nbconvert_exporter": "python",
   "pygments_lexer": "ipython3",
   "version": "3.9.12"
  }
 },
 "nbformat": 4,
 "nbformat_minor": 5
}
